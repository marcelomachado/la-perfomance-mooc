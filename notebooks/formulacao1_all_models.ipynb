{
 "cells": [
  {
   "cell_type": "markdown",
   "metadata": {},
   "source": [
    "# Teste 1 Modelo para Todo DataSet"
   ]
  },
  {
   "cell_type": "code",
   "execution_count": 1,
   "metadata": {},
   "outputs": [
    {
     "name": "stderr",
     "output_type": "stream",
     "text": [
      "Using TensorFlow backend.\n"
     ]
    }
   ],
   "source": [
    "%run ../src/feature_engineering.py\n",
    "%run ../src/model_evaluation.py\n",
    "%run ../src/plot.py\n",
    "%run ../src/pipeline.py\n",
    "\n",
    "import math\n",
    "import pandas as pd\n",
    "import numpy as np\n",
    "import matplotlib.pyplot as plt\n",
    "import seaborn as sns\n",
    "from keras import models\n",
    "from keras import layers\n",
    "from sklearn.ensemble import RandomForestRegressor\n",
    "from sklearn.preprocessing import StandardScaler, MinMaxScaler\n",
    "from sklearn.pipeline import Pipeline\n",
    "from sklearn.svm import SVR\n",
    "from sklearn.tree import DecisionTreeRegressor\n",
    "from sklearn.linear_model import LinearRegression\n",
    "from sklearn.ensemble import RandomForestRegressor\n",
    "\n",
    "%matplotlib inline\n",
    "#Alterando configurações padrão dos plots\n",
    "plt.style.use('fivethirtyeight')\n",
    "plt.rcParams['figure.figsize'] = (20, 160)"
   ]
  },
  {
   "cell_type": "code",
   "execution_count": 2,
   "metadata": {},
   "outputs": [],
   "source": [
    "course_df = pd.read_csv('../data/preprocessed/edx_2014_train.csv',low_memory=False)\n"
   ]
  },
  {
   "cell_type": "code",
   "execution_count": 4,
   "metadata": {
    "scrolled": false
   },
   "outputs": [
    {
     "name": "stdout",
     "output_type": "stream",
     "text": [
      "2019-05-31 07:18:51 Iniciando modelo _DecisionTree\n"
     ]
    },
    {
     "ename": "KeyError",
     "evalue": "\"['certified'] not in index\"",
     "output_type": "error",
     "traceback": [
      "\u001b[1;31m---------------------------------------------------------------------------\u001b[0m",
      "\u001b[1;31mKeyError\u001b[0m                                  Traceback (most recent call last)",
      "\u001b[1;32m<ipython-input-4-44d0e115acdb>\u001b[0m in \u001b[0;36m<module>\u001b[1;34m\u001b[0m\n\u001b[0;32m     75\u001b[0m results, plt = train_evaluate_by_course(_models, course_df, feature_extractor= feat_extract_selected, \n\u001b[0;32m     76\u001b[0m                               \u001b[0mlabel\u001b[0m\u001b[1;33m=\u001b[0m\u001b[1;34m'grade'\u001b[0m\u001b[1;33m,\u001b[0m \u001b[0msplit_criteria\u001b[0m\u001b[1;33m=\u001b[0m\u001b[1;34m'course_id'\u001b[0m\u001b[1;33m,\u001b[0m \u001b[0mevaluation\u001b[0m\u001b[1;33m=\u001b[0m\u001b[0mregression_evaluation\u001b[0m\u001b[1;33m,\u001b[0m\u001b[1;33m\u001b[0m\u001b[1;33m\u001b[0m\u001b[0m\n\u001b[1;32m---> 77\u001b[1;33m                               plots= [scatter_real_vs_pred_subplot, scatter_residual_error_subplot])\n\u001b[0m\u001b[0;32m     78\u001b[0m \u001b[1;33m\u001b[0m\u001b[0m\n\u001b[0;32m     79\u001b[0m \u001b[0mplt\u001b[0m\u001b[1;33m.\u001b[0m\u001b[0mshow\u001b[0m\u001b[1;33m(\u001b[0m\u001b[1;33m)\u001b[0m\u001b[1;33m\u001b[0m\u001b[1;33m\u001b[0m\u001b[0m\n",
      "\u001b[1;32m~\\Documents\\Doutorado\\Projeto\\mooc-data\\src\\pipeline.py\u001b[0m in \u001b[0;36mtrain_evaluate_by_course\u001b[1;34m(model_providers, data, split_criteria, feature_extractor, label, evaluation, normalize, plots, sample)\u001b[0m\n\u001b[0;32m    148\u001b[0m \u001b[1;33m\u001b[0m\u001b[0m\n\u001b[0;32m    149\u001b[0m         \u001b[1;32mif\u001b[0m \u001b[0mfeature_extractor\u001b[0m\u001b[1;33m:\u001b[0m\u001b[1;33m\u001b[0m\u001b[1;33m\u001b[0m\u001b[0m\n\u001b[1;32m--> 150\u001b[1;33m             \u001b[0mdata_train\u001b[0m \u001b[1;33m=\u001b[0m \u001b[0mfeature_extractor\u001b[0m\u001b[1;33m(\u001b[0m\u001b[0mdata_train\u001b[0m\u001b[1;33m)\u001b[0m\u001b[1;33m\u001b[0m\u001b[1;33m\u001b[0m\u001b[0m\n\u001b[0m\u001b[0;32m    151\u001b[0m \u001b[1;33m\u001b[0m\u001b[0m\n\u001b[0;32m    152\u001b[0m         \u001b[1;32mif\u001b[0m \u001b[0msample\u001b[0m \u001b[1;32mand\u001b[0m \u001b[0mdata_train\u001b[0m\u001b[1;33m.\u001b[0m\u001b[0mshape\u001b[0m\u001b[1;33m[\u001b[0m\u001b[1;36m0\u001b[0m\u001b[1;33m]\u001b[0m \u001b[1;33m>\u001b[0m \u001b[0msample\u001b[0m\u001b[1;33m:\u001b[0m\u001b[1;33m\u001b[0m\u001b[1;33m\u001b[0m\u001b[0m\n",
      "\u001b[1;32m<ipython-input-4-44d0e115acdb>\u001b[0m in \u001b[0;36mfeat_extract_selected\u001b[1;34m(df)\u001b[0m\n\u001b[0;32m     71\u001b[0m                  \u001b[1;34m'nplay_video'\u001b[0m\u001b[1;33m,\u001b[0m\u001b[1;33m\u001b[0m\u001b[1;33m\u001b[0m\u001b[0m\n\u001b[0;32m     72\u001b[0m                  \u001b[1;34m'nchapters'\u001b[0m\u001b[1;33m,\u001b[0m\u001b[1;33m\u001b[0m\u001b[1;33m\u001b[0m\u001b[0m\n\u001b[1;32m---> 73\u001b[1;33m                  'nforum_posts']]\n\u001b[0m\u001b[0;32m     74\u001b[0m \u001b[1;33m\u001b[0m\u001b[0m\n\u001b[0;32m     75\u001b[0m results, plt = train_evaluate_by_course(_models, course_df, feature_extractor= feat_extract_selected, \n",
      "\u001b[1;32mC:\\ProgramData\\Anaconda3\\lib\\site-packages\\pandas\\core\\frame.py\u001b[0m in \u001b[0;36m__getitem__\u001b[1;34m(self, key)\u001b[0m\n\u001b[0;32m   2932\u001b[0m                 \u001b[0mkey\u001b[0m \u001b[1;33m=\u001b[0m \u001b[0mlist\u001b[0m\u001b[1;33m(\u001b[0m\u001b[0mkey\u001b[0m\u001b[1;33m)\u001b[0m\u001b[1;33m\u001b[0m\u001b[1;33m\u001b[0m\u001b[0m\n\u001b[0;32m   2933\u001b[0m             indexer = self.loc._convert_to_indexer(key, axis=1,\n\u001b[1;32m-> 2934\u001b[1;33m                                                    raise_missing=True)\n\u001b[0m\u001b[0;32m   2935\u001b[0m \u001b[1;33m\u001b[0m\u001b[0m\n\u001b[0;32m   2936\u001b[0m         \u001b[1;31m# take() does not accept boolean indexers\u001b[0m\u001b[1;33m\u001b[0m\u001b[1;33m\u001b[0m\u001b[1;33m\u001b[0m\u001b[0m\n",
      "\u001b[1;32mC:\\ProgramData\\Anaconda3\\lib\\site-packages\\pandas\\core\\indexing.py\u001b[0m in \u001b[0;36m_convert_to_indexer\u001b[1;34m(self, obj, axis, is_setter, raise_missing)\u001b[0m\n\u001b[0;32m   1352\u001b[0m                 kwargs = {'raise_missing': True if is_setter else\n\u001b[0;32m   1353\u001b[0m                           raise_missing}\n\u001b[1;32m-> 1354\u001b[1;33m                 \u001b[1;32mreturn\u001b[0m \u001b[0mself\u001b[0m\u001b[1;33m.\u001b[0m\u001b[0m_get_listlike_indexer\u001b[0m\u001b[1;33m(\u001b[0m\u001b[0mobj\u001b[0m\u001b[1;33m,\u001b[0m \u001b[0maxis\u001b[0m\u001b[1;33m,\u001b[0m \u001b[1;33m**\u001b[0m\u001b[0mkwargs\u001b[0m\u001b[1;33m)\u001b[0m\u001b[1;33m[\u001b[0m\u001b[1;36m1\u001b[0m\u001b[1;33m]\u001b[0m\u001b[1;33m\u001b[0m\u001b[1;33m\u001b[0m\u001b[0m\n\u001b[0m\u001b[0;32m   1355\u001b[0m         \u001b[1;32melse\u001b[0m\u001b[1;33m:\u001b[0m\u001b[1;33m\u001b[0m\u001b[1;33m\u001b[0m\u001b[0m\n\u001b[0;32m   1356\u001b[0m             \u001b[1;32mtry\u001b[0m\u001b[1;33m:\u001b[0m\u001b[1;33m\u001b[0m\u001b[1;33m\u001b[0m\u001b[0m\n",
      "\u001b[1;32mC:\\ProgramData\\Anaconda3\\lib\\site-packages\\pandas\\core\\indexing.py\u001b[0m in \u001b[0;36m_get_listlike_indexer\u001b[1;34m(self, key, axis, raise_missing)\u001b[0m\n\u001b[0;32m   1159\u001b[0m         self._validate_read_indexer(keyarr, indexer,\n\u001b[0;32m   1160\u001b[0m                                     \u001b[0mo\u001b[0m\u001b[1;33m.\u001b[0m\u001b[0m_get_axis_number\u001b[0m\u001b[1;33m(\u001b[0m\u001b[0maxis\u001b[0m\u001b[1;33m)\u001b[0m\u001b[1;33m,\u001b[0m\u001b[1;33m\u001b[0m\u001b[1;33m\u001b[0m\u001b[0m\n\u001b[1;32m-> 1161\u001b[1;33m                                     raise_missing=raise_missing)\n\u001b[0m\u001b[0;32m   1162\u001b[0m         \u001b[1;32mreturn\u001b[0m \u001b[0mkeyarr\u001b[0m\u001b[1;33m,\u001b[0m \u001b[0mindexer\u001b[0m\u001b[1;33m\u001b[0m\u001b[1;33m\u001b[0m\u001b[0m\n\u001b[0;32m   1163\u001b[0m \u001b[1;33m\u001b[0m\u001b[0m\n",
      "\u001b[1;32mC:\\ProgramData\\Anaconda3\\lib\\site-packages\\pandas\\core\\indexing.py\u001b[0m in \u001b[0;36m_validate_read_indexer\u001b[1;34m(self, key, indexer, axis, raise_missing)\u001b[0m\n\u001b[0;32m   1250\u001b[0m             \u001b[1;32mif\u001b[0m \u001b[1;32mnot\u001b[0m\u001b[1;33m(\u001b[0m\u001b[0mself\u001b[0m\u001b[1;33m.\u001b[0m\u001b[0mname\u001b[0m \u001b[1;33m==\u001b[0m \u001b[1;34m'loc'\u001b[0m \u001b[1;32mand\u001b[0m \u001b[1;32mnot\u001b[0m \u001b[0mraise_missing\u001b[0m\u001b[1;33m)\u001b[0m\u001b[1;33m:\u001b[0m\u001b[1;33m\u001b[0m\u001b[1;33m\u001b[0m\u001b[0m\n\u001b[0;32m   1251\u001b[0m                 \u001b[0mnot_found\u001b[0m \u001b[1;33m=\u001b[0m \u001b[0mlist\u001b[0m\u001b[1;33m(\u001b[0m\u001b[0mset\u001b[0m\u001b[1;33m(\u001b[0m\u001b[0mkey\u001b[0m\u001b[1;33m)\u001b[0m \u001b[1;33m-\u001b[0m \u001b[0mset\u001b[0m\u001b[1;33m(\u001b[0m\u001b[0max\u001b[0m\u001b[1;33m)\u001b[0m\u001b[1;33m)\u001b[0m\u001b[1;33m\u001b[0m\u001b[1;33m\u001b[0m\u001b[0m\n\u001b[1;32m-> 1252\u001b[1;33m                 \u001b[1;32mraise\u001b[0m \u001b[0mKeyError\u001b[0m\u001b[1;33m(\u001b[0m\u001b[1;34m\"{} not in index\"\u001b[0m\u001b[1;33m.\u001b[0m\u001b[0mformat\u001b[0m\u001b[1;33m(\u001b[0m\u001b[0mnot_found\u001b[0m\u001b[1;33m)\u001b[0m\u001b[1;33m)\u001b[0m\u001b[1;33m\u001b[0m\u001b[1;33m\u001b[0m\u001b[0m\n\u001b[0m\u001b[0;32m   1253\u001b[0m \u001b[1;33m\u001b[0m\u001b[0m\n\u001b[0;32m   1254\u001b[0m             \u001b[1;31m# we skip the warning on Categorical/Interval\u001b[0m\u001b[1;33m\u001b[0m\u001b[1;33m\u001b[0m\u001b[1;33m\u001b[0m\u001b[0m\n",
      "\u001b[1;31mKeyError\u001b[0m: \"['certified'] not in index\""
     ]
    }
   ],
   "source": [
    "plt.rcParams['figure.figsize'] = (20, 160)\n",
    "\n",
    "class ModelDecorator:\n",
    "    def __init__(self, model):\n",
    "        self._model = model\n",
    "        \n",
    "    def fit(self, X, y):\n",
    "        return self._model.fit(X, y, epochs=50, verbose=1)\n",
    "    \n",
    "    def predict(self, X):\n",
    "        flatten = lambda l: [item for sublist in l for item in sublist]\n",
    "        return flatten(self._model.predict(X))\n",
    "\n",
    "class _LinearRegression:\n",
    "    def provide(self):\n",
    "        return LinearRegression()\n",
    "    def sample_size(self):\n",
    "        return None\n",
    "    \n",
    "class _DecisionTree:\n",
    "    def provide(self):\n",
    "        return DecisionTreeRegressor(criterion='mae', max_depth=3)\n",
    "    def sample_size(self):\n",
    "        return None\n",
    "    \n",
    "class _DeepLearning:\n",
    "    def provide(self):\n",
    "        model = models.Sequential()\n",
    "        model.add(layers.Dense(32, activation='relu', input_dim=8))\n",
    "        model.add(layers.Dense(32, activation='relu'))     \n",
    "        model.add(layers.Dense(1))\n",
    "        model.compile(optimizer='rmsprop', loss='mse', metrics=['mae'])\n",
    "        return ModelDecorator(model)\n",
    "    def sample_size(self):\n",
    "        return 50000\n",
    "    \n",
    "class _SupportVectorMachine:\n",
    "    def provide(self):\n",
    "        return Pipeline([('scaler', StandardScaler()),\n",
    "                  ('poly', SVR(kernel='poly', C=1e3, cache_size=7000, verbose=True))])\n",
    "    def sample_size(self):\n",
    "        return 1\n",
    "        \n",
    "class _RandonForest:\n",
    "    def provide(self):\n",
    "        return Pipeline([('scaler', StandardScaler()),\n",
    "                  ('rfr', RandomForestRegressor(criterion='mae',  max_depth=3))])\n",
    "    def sample_size(self):\n",
    "        return 10000\n",
    "\n",
    "_models = [    \n",
    "  #  _SupportVectorMachine(),\n",
    "    _DecisionTree(),\n",
    "    _RandonForest(),\n",
    "    _LinearRegression(),\n",
    "    _DeepLearning(),\n",
    "    \n",
    "]\n",
    "    \n",
    "#course_df = course_df.dropna(subset=['grade'])   \n",
    "#course_df['grade'] = course_df['grade'].map(lambda g: g if g > 0 else 0)\n",
    "    \n",
    "def feat_extract_selected(df):\n",
    "    data = feature_extract(df)\n",
    "    return data[['grade',\n",
    "                 'viewed',\n",
    "                 'explored',\n",
    "                 'certified',\n",
    "                 'nevents',\n",
    "                 'ndays_act',\n",
    "                 'nplay_video',\n",
    "                 'nchapters',\n",
    "                 'nforum_posts']]\n",
    "\n",
    "results, plt = train_evaluate_by_course(_models, course_df, feature_extractor= feat_extract_selected, \n",
    "                              label='grade', split_criteria='course_id', evaluation=regression_evaluation, \n",
    "                              plots= [scatter_real_vs_pred_subplot, scatter_residual_error_subplot])\n",
    "\n",
    "plt.show()"
   ]
  },
  {
   "cell_type": "code",
   "execution_count": null,
   "metadata": {},
   "outputs": [],
   "source": [
    "reform = {(level1_key, level2_key, level3_key): values\n",
    "              for level1_key, level2_dict in results.items()\n",
    "              for level2_key, level3_dict in level2_dict.items()\n",
    "              for level3_key, values      in level3_dict.items()}\n",
    "\n",
    "result2 = []\n",
    "for modelname, courses in results.items():\n",
    "    for course_id, metrics in courses.items():\n",
    "        result2.append({'model': modelname, 'course_id': course_id, 'mae':metrics['mean_absolute_error']})\n",
    "    \n",
    "pd.options.display.float_format = '{:,.4f}'.format\n",
    "pd.DataFrame(result2)"
   ]
  },
  {
   "cell_type": "code",
   "execution_count": 5,
   "metadata": {},
   "outputs": [
    {
     "ename": "NameError",
     "evalue": "name 'results' is not defined",
     "output_type": "error",
     "traceback": [
      "\u001b[1;31m---------------------------------------------------------------------------\u001b[0m",
      "\u001b[1;31mNameError\u001b[0m                                 Traceback (most recent call last)",
      "\u001b[1;32m<ipython-input-5-884e71a0784b>\u001b[0m in \u001b[0;36m<module>\u001b[1;34m\u001b[0m\n\u001b[0;32m      1\u001b[0m reform = {(level1_key, level2_key, level3_key): values\n\u001b[1;32m----> 2\u001b[1;33m               \u001b[1;32mfor\u001b[0m \u001b[0mlevel1_key\u001b[0m\u001b[1;33m,\u001b[0m \u001b[0mlevel2_dict\u001b[0m \u001b[1;32min\u001b[0m \u001b[0mresults\u001b[0m\u001b[1;33m.\u001b[0m\u001b[0mitems\u001b[0m\u001b[1;33m(\u001b[0m\u001b[1;33m)\u001b[0m\u001b[1;33m\u001b[0m\u001b[1;33m\u001b[0m\u001b[0m\n\u001b[0m\u001b[0;32m      3\u001b[0m               \u001b[1;32mfor\u001b[0m \u001b[0mlevel2_key\u001b[0m\u001b[1;33m,\u001b[0m \u001b[0mlevel3_dict\u001b[0m \u001b[1;32min\u001b[0m \u001b[0mlevel2_dict\u001b[0m\u001b[1;33m.\u001b[0m\u001b[0mitems\u001b[0m\u001b[1;33m(\u001b[0m\u001b[1;33m)\u001b[0m\u001b[1;33m\u001b[0m\u001b[1;33m\u001b[0m\u001b[0m\n\u001b[0;32m      4\u001b[0m               for level3_key, values      in level3_dict.items()}\n\u001b[0;32m      5\u001b[0m \u001b[1;33m\u001b[0m\u001b[0m\n",
      "\u001b[1;31mNameError\u001b[0m: name 'results' is not defined"
     ]
    }
   ],
   "source": [
    "reform = {(level1_key, level2_key, level3_key): values\n",
    "              for level1_key, level2_dict in results.items()\n",
    "              for level2_key, level3_dict in level2_dict.items()\n",
    "              for level3_key, values      in level3_dict.items()}\n",
    "\n",
    "result2 = []\n",
    "for modelname, courses in results.items():\n",
    "    for course_id, metrics in courses.items():\n",
    "        result2.append({'model': modelname, 'course_id': course_id, 'r2_score':metrics['r2_score']})\n",
    "    \n",
    "pd.options.display.float_format = '{:,.4f}'.format\n",
    "pd.DataFrame(result2)"
   ]
  },
  {
   "cell_type": "code",
   "execution_count": null,
   "metadata": {},
   "outputs": [],
   "source": []
  },
  {
   "cell_type": "code",
   "execution_count": null,
   "metadata": {},
   "outputs": [],
   "source": []
  },
  {
   "cell_type": "code",
   "execution_count": null,
   "metadata": {},
   "outputs": [],
   "source": []
  }
 ],
 "metadata": {
  "kernelspec": {
   "display_name": "Python 3",
   "language": "python",
   "name": "python3"
  },
  "language_info": {
   "codemirror_mode": {
    "name": "ipython",
    "version": 3
   },
   "file_extension": ".py",
   "mimetype": "text/x-python",
   "name": "python",
   "nbconvert_exporter": "python",
   "pygments_lexer": "ipython3",
   "version": "3.7.3"
  }
 },
 "nbformat": 4,
 "nbformat_minor": 2
}
