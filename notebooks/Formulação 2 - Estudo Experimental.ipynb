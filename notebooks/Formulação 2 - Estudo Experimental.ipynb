{
 "cells": [
  {
   "cell_type": "markdown",
   "metadata": {},
   "source": [
    "# Formulação 2 - Estudo Experimental"
   ]
  },
  {
   "cell_type": "code",
   "execution_count": 25,
   "metadata": {
    "scrolled": false
   },
   "outputs": [],
   "source": [
    "%run ../src/feature_engineering.py\n",
    "%run ../src/model_evaluation.py\n",
    "%run ../src/plot.py\n",
    "%run ../src/pipeline.py\n",
    "\n",
    "import math\n",
    "import pandas as pd\n",
    "import numpy as np\n",
    "import matplotlib.pyplot as plt\n",
    "import seaborn as sns\n",
    "from keras import models\n",
    "from keras.utils import to_categorical\n",
    "from keras import layers\n",
    "from sklearn.ensemble import RandomForestRegressor,RandomForestClassifier\n",
    "from sklearn.preprocessing import StandardScaler, MinMaxScaler\n",
    "from sklearn.pipeline import Pipeline\n",
    "from sklearn.svm import SVR, SVC\n",
    "from sklearn.tree import DecisionTreeRegressor\n",
    "from sklearn.linear_model import LinearRegression, LogisticRegression\n",
    "from sklearn.ensemble import RandomForestRegressor\n",
    "from sklearn.naive_bayes import GaussianNB\n",
    "from sklearn.metrics import precision_recall_fscore_support, accuracy_score, precision_score,f1_score, recall_score\n",
    "\n",
    "%matplotlib inline\n",
    "#Alterando configurações padrão dos plots\n",
    "plt.style.use('fivethirtyeight')\n",
    "plt.rcParams['figure.figsize'] = (20, 160)"
   ]
  },
  {
   "cell_type": "code",
   "execution_count": 2,
   "metadata": {
    "scrolled": false
   },
   "outputs": [],
   "source": [
    "course_df = pd.read_csv('../data/preprocessed/preprocessed_edx_2014_enriched.csv',low_memory=False)"
   ]
  },
  {
   "cell_type": "code",
   "execution_count": 16,
   "metadata": {},
   "outputs": [
    {
     "data": {
      "text/plain": [
       "<matplotlib.axes._subplots.AxesSubplot at 0x236a01ccf98>"
      ]
     },
     "execution_count": 16,
     "metadata": {},
     "output_type": "execute_result"
    },
    {
     "data": {
      "image/png": "[encoded data removed]",
      "text/plain": [
       "<matplotlib.figure.Figure at 0x236a0f92cc0>"
      ]
     },
     "metadata": {},
     "output_type": "display_data"
    }
   ],
   "source": [
    "plt.rcParams['figure.figsize'] = (20, 5)\n",
    "cs50x = course_df[course_df['course_id']=='CS50x']\n",
    "cs50x['certified'].value_counts(sort=True).plot.bar()"
   ]
  },
  {
   "cell_type": "markdown",
   "metadata": {},
   "source": [
    "## Divisão dos Dados Em Cenários"
   ]
  },
  {
   "cell_type": "code",
   "execution_count": 7,
   "metadata": {
    "scrolled": false
   },
   "outputs": [],
   "source": [
    "course_df['course_year'] =  course_df['course_id'].astype(str) +'_'+course_df['year'].astype(str)\n",
    "course_years = course_df['course_year'].unique()\n",
    "#random.shuffle(course_years)\n",
    "course_years = ['PH278x_2013', '8.MReV_2013', 'CS50x_2012','7.00x_2013',\n",
    "                '8.02x_2013',  '3.091x_2013', 'ER22x_2013','14.73x_2013',\n",
    "                'PH207x_2012', '6.00x_2012', '3.091x_2012', '2.01x_2013',\n",
    "                 'CB22x_2013', '6.00x_2013', '6.002x_2012',  '6.002x_2013']\n",
    "\n",
    "# Cenário de Análise Sem Eliminar linhas Inconsistentes\n",
    "cen1 = course_years[0:5] \n",
    "# Cenário de Análise Eliminando linhas Inconsistentes\n",
    "cen2 = course_years[5:10]\n",
    "# Cenário de Análise Utilizando apenas as variáveis selecionadas.\n",
    "cen3 = course_years[10:15]\n",
    "\n",
    "\n",
    "cen1df = course_df[course_df['course_year'].isin(cen1)]\n",
    "cen2df = course_df[course_df['course_year'].isin(cen2)]\n",
    "cen3df = course_df[course_df['course_year'].isin(cen3)]  "
   ]
  },
  {
   "cell_type": "code",
   "execution_count": 8,
   "metadata": {
    "scrolled": false
   },
   "outputs": [
    {
     "name": "stdout",
     "output_type": "stream",
     "text": [
      "(270757, 35) (199738, 35) (148408, 35)\n"
     ]
    }
   ],
   "source": [
    "print(cen1df.shape, cen2df.shape, cen3df.shape)"
   ]
  },
  {
   "cell_type": "markdown",
   "metadata": {},
   "source": [
    "### Cenário 2 | Removendo Linhas com Grade Nulo ou Inconsistentes"
   ]
  },
  {
   "cell_type": "code",
   "execution_count": 9,
   "metadata": {},
   "outputs": [
    {
     "name": "stdout",
     "output_type": "stream",
     "text": [
      "(270757, 35) (192693, 35) (148408, 35)\n"
     ]
    }
   ],
   "source": [
    "#cen2df = cen2df.dropna(subset=['grade'])\n",
    "cen2df = cen2df[cen2df['incomplete_flag']!=1]\n",
    "print(cen1df.shape, cen2df.shape, cen3df.shape)"
   ]
  },
  {
   "cell_type": "markdown",
   "metadata": {},
   "source": [
    "### Cenário 3 | Identificando as variáveis correlacionadas à solução"
   ]
  },
  {
   "cell_type": "code",
   "execution_count": null,
   "metadata": {
    "scrolled": false
   },
   "outputs": [],
   "source": [
    "related  = feature_extract(course_df.sample(100000))\n",
    "related.head()"
   ]
  },
  {
   "cell_type": "code",
   "execution_count": null,
   "metadata": {
    "scrolled": false
   },
   "outputs": [],
   "source": [
    "related.columns"
   ]
  },
  {
   "cell_type": "code",
   "execution_count": null,
   "metadata": {
    "scrolled": false
   },
   "outputs": [],
   "source": [
    "import statsmodels.api as sm\n",
    "from scipy import stats\n",
    "import sklearn.preprocessing"
   ]
  },
  {
   "cell_type": "code",
   "execution_count": null,
   "metadata": {
    "scrolled": false
   },
   "outputs": [],
   "source": [
    "\n",
    "XBase, y = related.loc[:, related.columns != 'grade'], related['grade']\n",
    "X =  preprocessing.normalize(XBase)\n",
    "print(X.shape, y.shape)\n"
   ]
  },
  {
   "cell_type": "code",
   "execution_count": null,
   "metadata": {
    "scrolled": false
   },
   "outputs": [],
   "source": [
    "X2 = sm.add_constant(X)\n",
    "est = sm.OLS(np.asarray(y, dtype='float'), np.asarray(X2, dtype='float'))\n",
    "r = est.fit()\n",
    "\n",
    "r2 = r.f_test()\n",
    "r2.summary()\n",
    "#pd.options.display.float_format = '{:,.10f}'.format\n",
    "#for i,c in enumerate(XBase.columns):\n",
    "#    print(i, c, \"{0:0.4f}\".format(r.pvalues[i]))\n",
    "    \n",
    "#pd.DataFrame(r.pvalues)\n",
    "#X2"
   ]
  },
  {
   "cell_type": "code",
   "execution_count": null,
   "metadata": {
    "scrolled": false
   },
   "outputs": [],
   "source": [
    "from sklearn.feature_selection import SelectKBest\n",
    "from sklearn import feature_selection\n",
    "\n",
    "model = SelectKBest(score_func=feature_selection.mutual_info_regression, k=20)\n",
    "r = model.fit(X, y)\n",
    "\n",
    "print(r.scores_)\n",
    "print(r.pvalues_)\n",
    "\n",
    "pd.options.display.float_format = '{:,.10f}'.format\n",
    "for i,c in enumerate(XBase.columns):\n",
    "    print(i, c, \"{0:0.4f}\".format(r.scores_[i]))\n",
    "    \n",
    "#pd.DataFrame(r.pvalues)\n",
    "#X2"
   ]
  },
  {
   "cell_type": "code",
   "execution_count": null,
   "metadata": {},
   "outputs": [],
   "source": [
    "\n",
    "\n"
   ]
  },
  {
   "cell_type": "markdown",
   "metadata": {},
   "source": [
    "## Formulação 1\n",
    "### Cenário 1"
   ]
  },
  {
   "cell_type": "code",
   "execution_count": 22,
   "metadata": {
    "scrolled": false
   },
   "outputs": [
    {
     "name": "stdout",
     "output_type": "stream",
     "text": [
      "2018-06-21 23:48:43 Iniciando modelo _LogisticRegression\n",
      "2018-06-21 23:48:43 Iniciando curso CS50x\n",
      "(169621, 35)\n"
     ]
    },
    {
     "name": "stderr",
     "output_type": "stream",
     "text": [
      "D:\\Programs\\Anaconda\\lib\\site-packages\\sklearn\\linear_model\\sag.py:326: ConvergenceWarning: The max_iter was reached which means the coef_ did not converge\n",
      "  \"the coef_ did not converge\", ConvergenceWarning)\n"
     ]
    },
    {
     "name": "stdout",
     "output_type": "stream",
     "text": [
      "2018-06-21 23:49:05 Treinamento OK!\n",
      "2018-06-21 23:49:05 Resultados {'f1': 0.5950054288816504, 'accuracy': 0.9945024171677869, 'precision': 0.7043701799485861, 'recall_score': 0.5150375939849624, 'train_time': 236999, 'test_time': 34000, 'n_test': 67848, 'n_train': 101773}\n",
      "2018-06-21 23:49:05 Iniciando curso PH278x\n",
      "(39602, 35)\n"
     ]
    },
    {
     "name": "stderr",
     "output_type": "stream",
     "text": [
      "D:\\Programs\\Anaconda\\lib\\site-packages\\sklearn\\linear_model\\sag.py:326: ConvergenceWarning: The max_iter was reached which means the coef_ did not converge\n",
      "  \"the coef_ did not converge\", ConvergenceWarning)\n"
     ]
    },
    {
     "name": "stdout",
     "output_type": "stream",
     "text": [
      "2018-06-21 23:49:09 Treinamento OK!\n",
      "2018-06-21 23:49:09 Resultados {'f1': 0.7013487475915221, 'accuracy': 0.9902152641878669, 'precision': 0.7193675889328063, 'recall_score': 0.6842105263157895, 'train_time': 93001, 'test_time': 7997, 'n_test': 15841, 'n_train': 23761}\n",
      "2018-06-21 23:49:09 Iniciando curso 7.00x\n",
      "(21009, 35)\n"
     ]
    },
    {
     "name": "stderr",
     "output_type": "stream",
     "text": [
      "D:\\Programs\\Anaconda\\lib\\site-packages\\sklearn\\linear_model\\sag.py:326: ConvergenceWarning: The max_iter was reached which means the coef_ did not converge\n",
      "  \"the coef_ did not converge\", ConvergenceWarning)\n"
     ]
    },
    {
     "name": "stdout",
     "output_type": "stream",
     "text": [
      "2018-06-21 23:49:12 Treinamento OK!\n",
      "2018-06-21 23:49:12 Resultados {'f1': 0.7874999999999999, 'accuracy': 0.9838172298905283, 'precision': 0.7567567567567568, 'recall_score': 0.8208469055374593, 'train_time': 508004, 'test_time': 4999, 'n_test': 8404, 'n_train': 12605}\n",
      "2018-06-21 23:49:12 Iniciando curso 8.02x\n",
      "(31048, 35)\n"
     ]
    },
    {
     "name": "stderr",
     "output_type": "stream",
     "text": [
      "D:\\Programs\\Anaconda\\lib\\site-packages\\sklearn\\linear_model\\sag.py:326: ConvergenceWarning: The max_iter was reached which means the coef_ did not converge\n",
      "  \"the coef_ did not converge\", ConvergenceWarning)\n"
     ]
    },
    {
     "name": "stdout",
     "output_type": "stream",
     "text": [
      "2018-06-21 23:49:15 Treinamento OK!\n",
      "2018-06-21 23:49:15 Resultados {'f1': 0.8693098384728339, 'accuracy': 0.9928335614783799, 'precision': 0.8731563421828908, 'recall_score': 0.8654970760233918, 'train_time': 794029, 'test_time': 6001, 'n_test': 12419, 'n_train': 18629}\n",
      "2018-06-21 23:49:15 Iniciando curso 8.MReV\n",
      "(9477, 35)\n"
     ]
    },
    {
     "name": "stderr",
     "output_type": "stream",
     "text": [
      "D:\\Programs\\Anaconda\\lib\\site-packages\\sklearn\\linear_model\\sag.py:326: ConvergenceWarning: The max_iter was reached which means the coef_ did not converge\n",
      "  \"the coef_ did not converge\", ConvergenceWarning)\n"
     ]
    },
    {
     "name": "stdout",
     "output_type": "stream",
     "text": [
      "2018-06-21 23:49:16 Treinamento OK!\n",
      "2018-06-21 23:49:16 Resultados {'f1': 0.7715355805243446, 'accuracy': 0.9839092587707728, 'precision': 0.7518248175182481, 'recall_score': 0.7923076923076923, 'train_time': 219036, 'test_time': 1978, 'n_test': 3791, 'n_train': 5686}\n",
      "2018-06-21 23:49:16 Iniciando modelo _DeepLearning\n",
      "2018-06-21 23:49:16 Iniciando curso CS50x\n",
      "(169621, 35)\n",
      "1219 159921\n",
      "2018-06-21 23:49:34 Treinamento OK!\n",
      "2018-06-21 23:49:37 Resultados {'f1': 0.06844919786096258, 'accuracy': 0.9895802802916565, 'precision': 0.03551609322974473, 'recall_score': 0.9411764705882353, 'train_time': 619456, 'test_time': 191999, 'n_test': 167183, 'n_train': 2438}\n",
      "2018-06-21 23:49:37 Iniciando curso PH278x\n",
      "(39602, 35)\n",
      "675 36947\n",
      "2018-06-21 23:49:43 Treinamento OK!\n",
      "2018-06-21 23:49:44 Resultados {'f1': 0.04371584699453552, 'accuracy': 0.9588256823172645, 'precision': 0.0223463687150838, 'recall_score': 1.0, 'train_time': 930999, 'test_time': 38000, 'n_test': 38252, 'n_train': 1350}\n",
      "2018-06-21 23:49:44 Iniciando curso 7.00x\n",
      "(21009, 35)\n",
      "780 19179\n",
      "2018-06-21 23:49:48 Treinamento OK!\n",
      "2018-06-21 23:49:48 Resultados {'f1': 0.034930950446791224, 'accuracy': 0.8778343359555761, 'precision': 0.017775940471269118, 'recall_score': 1.0, 'train_time': 32998, 'test_time': 20001, 'n_test': 19449, 'n_train': 1560}\n",
      "2018-06-21 23:49:48 Iniciando curso 8.02x\n",
      "(31048, 35)\n",
      "782 28714\n",
      "2018-06-21 23:49:53 Treinamento OK!\n"
     ]
    },
    {
     "name": "stderr",
     "output_type": "stream",
     "text": [
      "D:\\Programs\\Anaconda\\lib\\site-packages\\sklearn\\metrics\\classification.py:1135: UndefinedMetricWarning: F-score is ill-defined and being set to 0.0 due to no predicted samples.\n",
      "  'precision', 'predicted', average, warn_for)\n",
      "D:\\Programs\\Anaconda\\lib\\site-packages\\sklearn\\metrics\\classification.py:1135: UndefinedMetricWarning: Precision is ill-defined and being set to 0.0 due to no predicted samples.\n",
      "  'precision', 'predicted', average, warn_for)\n"
     ]
    },
    {
     "name": "stdout",
     "output_type": "stream",
     "text": [
      "2018-06-21 23:49:54 Resultados {'f1': 0.0, 'accuracy': 0.9986433319766653, 'precision': 0.0, 'recall_score': 0.0, 'train_time': 159715, 'test_time': 28001, 'n_test': 29484, 'n_train': 1564}\n",
      "2018-06-21 23:49:54 Iniciando curso 8.MReV\n",
      "(9477, 35)\n",
      "282 8721\n",
      "2018-06-21 23:49:56 Treinamento OK!\n",
      "2018-06-21 23:49:57 Resultados {'f1': 0.0, 'accuracy': 0.9983170649612925, 'precision': 0.0, 'recall_score': 0.0, 'train_time': 421956, 'test_time': 10004, 'n_test': 8913, 'n_train': 564}\n",
      "2018-06-21 23:49:57 Iniciando modelo _RandonForest\n",
      "2018-06-21 23:49:57 Iniciando curso CS50x\n",
      "(169621, 35)\n",
      "2018-06-21 23:50:14 Treinamento OK!\n",
      "2018-06-21 23:50:14 Resultados {'f1': 0.6153846153846153, 'accuracy': 0.994694021931376, 'precision': 0.7128712871287128, 'recall_score': 0.5413533834586466, 'train_time': 304999, 'test_time': 38001, 'n_test': 67848, 'n_train': 101773}\n",
      "2018-06-21 23:50:14 Iniciando curso PH278x\n",
      "(39602, 35)\n",
      "2018-06-21 23:50:18 Treinamento OK!\n",
      "2018-06-21 23:50:18 Resultados {'f1': 0.7117296222664017, 'accuracy': 0.9908465374660691, 'precision': 0.7552742616033755, 'recall_score': 0.6729323308270677, 'train_time': 137000, 'test_time': 7999, 'n_test': 15841, 'n_train': 23761}\n",
      "2018-06-21 23:50:18 Iniciando curso 7.00x\n",
      "(21009, 35)\n",
      "2018-06-21 23:50:21 Treinamento OK!\n",
      "2018-06-21 23:50:21 Resultados {'f1': 0.7637540453074434, 'accuracy': 0.9826273203236554, 'precision': 0.7588424437299035, 'recall_score': 0.7687296416938111, 'train_time': 121232, 'test_time': 5901, 'n_test': 8404, 'n_train': 12605}\n",
      "2018-06-21 23:50:21 Iniciando curso 8.02x\n",
      "(31048, 35)\n",
      "2018-06-21 23:50:24 Treinamento OK!\n",
      "2018-06-21 23:50:24 Resultados {'f1': 0.8389057750759878, 'accuracy': 0.9914646911989693, 'precision': 0.8734177215189873, 'recall_score': 0.8070175438596491, 'train_time': 132002, 'test_time': 9997, 'n_test': 12419, 'n_train': 18629}\n",
      "2018-06-21 23:50:24 Iniciando curso 8.MReV\n",
      "(9477, 35)\n",
      "2018-06-21 23:50:25 Treinamento OK!\n",
      "2018-06-21 23:50:25 Resultados {'f1': 0.7812500000000001, 'accuracy': 0.9852281719862833, 'precision': 0.7936507936507936, 'recall_score': 0.7692307692307693, 'train_time': 113203, 'test_time': 5907, 'n_test': 3791, 'n_train': 5686}\n",
      "2018-06-21 23:50:25 Iniciando modelo _SuppotVectorMachine\n",
      "2018-06-21 23:50:25 Iniciando curso CS50x\n",
      "(169621, 35)\n",
      "2018-06-21 23:50:48 Treinamento OK!\n",
      "2018-06-21 23:50:51 Resultados {'f1': 0.6781029263370333, 'accuracy': 0.9952983138780804, 'precision': 0.7320261437908496, 'recall_score': 0.631578947368421, 'train_time': 182999, 'test_time': 36997, 'n_test': 67848, 'n_train': 101773}\n",
      "2018-06-21 23:50:51 Iniciando curso PH278x\n",
      "(39602, 35)\n",
      "2018-06-21 23:50:55 Treinamento OK!\n",
      "2018-06-21 23:50:55 Resultados {'f1': 0.7080979284369114, 'accuracy': 0.9902152641878669, 'precision': 0.7094339622641509, 'recall_score': 0.706766917293233, 'train_time': 944002, 'test_time': 8001, 'n_test': 15841, 'n_train': 23761}\n",
      "2018-06-21 23:50:55 Iniciando curso 7.00x\n",
      "(21009, 35)\n",
      "2018-06-21 23:50:58 Treinamento OK!\n",
      "2018-06-21 23:50:58 Resultados {'f1': 0.7882534775888719, 'accuracy': 0.983698238933841, 'precision': 0.75, 'recall_score': 0.8306188925081434, 'train_time': 406000, 'test_time': 7997, 'n_test': 8404, 'n_train': 12605}\n",
      "2018-06-21 23:50:58 Iniciando curso 8.02x\n",
      "(31048, 35)\n",
      "2018-06-21 23:51:01 Treinamento OK!\n",
      "2018-06-21 23:51:02 Resultados {'f1': 0.8592592592592593, 'accuracy': 0.9923504307915291, 'precision': 0.8708708708708709, 'recall_score': 0.847953216374269, 'train_time': 528998, 'test_time': 6001, 'n_test': 12419, 'n_train': 18629}\n",
      "2018-06-21 23:51:02 Iniciando curso 8.MReV\n",
      "(9477, 35)\n",
      "2018-06-21 23:51:03 Treinamento OK!\n",
      "2018-06-21 23:51:03 Resultados {'f1': 0.7898550724637682, 'accuracy': 0.9847006067000791, 'precision': 0.7465753424657534, 'recall_score': 0.8384615384615385, 'train_time': 81028, 'test_time': 4968, 'n_test': 3791, 'n_train': 5686}\n",
      "2018-06-21 23:51:03 Iniciando modelo _NaiveBayes\n",
      "2018-06-21 23:51:03 Iniciando curso CS50x\n",
      "(169621, 35)\n",
      "2018-06-21 23:51:18 Treinamento OK!\n",
      "2018-06-21 23:51:18 Resultados {'f1': 0.25269203158650394, 'accuracy': 0.9539706402546869, 'precision': 0.14477652865368795, 'recall_score': 0.9924812030075187, 'train_time': 129002, 'test_time': 33999, 'n_test': 67848, 'n_train': 101773}\n",
      "2018-06-21 23:51:18 Iniciando curso PH278x\n",
      "(39602, 35)\n",
      "2018-06-21 23:51:22 Treinamento OK!\n",
      "2018-06-21 23:51:22 Resultados {'f1': 0.39509954058192953, 'accuracy': 0.9501294110220314, 'precision': 0.24807692307692308, 'recall_score': 0.9699248120300752, 'train_time': 30032, 'test_time': 8000, 'n_test': 15841, 'n_train': 23761}\n",
      "2018-06-21 23:51:22 Iniciando curso 7.00x\n",
      "(21009, 35)\n",
      "2018-06-21 23:51:24 Treinamento OK!\n",
      "2018-06-21 23:51:24 Resultados {'f1': 0.6182965299684542, 'accuracy': 0.9568062827225131, 'precision': 0.45652173913043476, 'recall_score': 0.9576547231270358, 'train_time': 14999, 'test_time': 5001, 'n_test': 8404, 'n_train': 12605}\n",
      "2018-06-21 23:51:24 Iniciando curso 8.02x\n",
      "(31048, 35)\n",
      "2018-06-21 23:51:27 Treinamento OK!\n",
      "2018-06-21 23:51:27 Resultados {'f1': 0.6390977443609023, 'accuracy': 0.9690796360415492, 'precision': 0.4709141274238227, 'recall_score': 0.9941520467836257, 'train_time': 22999, 'test_time': 7001, 'n_test': 12419, 'n_train': 18629}\n",
      "2018-06-21 23:51:27 Iniciando curso 8.MReV\n",
      "(9477, 35)\n",
      "2018-06-21 23:51:28 Treinamento OK!\n",
      "2018-06-21 23:51:28 Resultados {'f1': 0.3581267217630854, 'accuracy': 0.8770772883144289, 'precision': 0.2181208053691275, 'recall_score': 1.0, 'train_time': 4001, 'test_time': 2995, 'n_test': 3791, 'n_train': 5686}\n"
     ]
    }
   ],
   "source": [
    "plt.rcParams.update({'font.size': 8})\n",
    "\n",
    "\n",
    "class ModelDecorator:\n",
    "    def __init__(self, model):\n",
    "        self._model = model\n",
    "        \n",
    "    def fit(self, X, y):\n",
    "        #from sklearn.utils import class_weight\n",
    "        #class_weights = class_weight.compute_class_weight('balanced',np.unique(y), y)\n",
    "        #print(class_weights)\n",
    "        #y = to_categorical(y)       \n",
    "        #return self._model.fit(X, y, epochs=12, class_weight=class_weights, verbose=1)\n",
    "        return self._model.fit(X, y, epochs=20, verbose=0)\n",
    "    \n",
    "    def predict(self, X):\n",
    "        #return flatten(self._model.predict(X))\n",
    "        pred = self._model.predict(X)\n",
    "        return  [ 1 if p>=0.5 else 0 for p in pred]\n",
    "   \n",
    "\n",
    "class _DeepLearning:\n",
    "    def __init__(self, input_dim=21):\n",
    "        self._input_dim = input_dim\n",
    "        \n",
    "    def provide(self):\n",
    "        # create model\n",
    "        model = models.Sequential()\n",
    "        model.add(layers.Dense(self._input_dim*2, input_dim= self._input_dim, activation='relu'))\n",
    "        model.add(layers.Dense(self._input_dim, input_dim= self._input_dim, activation='relu'))\n",
    "        model.add(layers.Dense(1, activation='sigmoid'))\n",
    "        model.compile(loss='binary_crossentropy', optimizer='adam', metrics=['binary_accuracy'])\n",
    "        return ModelDecorator(model)\n",
    "    \n",
    "    def sample_size(self):\n",
    "        return None    \n",
    "     \n",
    "    def require_balance(self):\n",
    "        return True\n",
    "\n",
    "class _RandonForest:\n",
    "    def provide(self):\n",
    "        return Pipeline([('scaler', StandardScaler()),\n",
    "                  ('rfr',RandomForestClassifier(n_jobs=2, random_state=42))])\n",
    "    \n",
    "    def sample_size(self):\n",
    "        return None\n",
    "     \n",
    "    def require_balance(self):\n",
    "        return False\n",
    "\n",
    "class _SuppotVectorMachine:\n",
    "    def provide(self):\n",
    "        return Pipeline([('scaler', StandardScaler()),\n",
    "                  ('poly',SVC(random_state=42))])\n",
    "    \n",
    "    def sample_size(self):\n",
    "        return None\n",
    "     \n",
    "    def require_balance(self):\n",
    "        return False\n",
    "\n",
    "class _LogisticRegression:\n",
    "    def provide(self):\n",
    "        return Pipeline([('scaler', StandardScaler()),\n",
    "                  ('poly',LogisticRegression(solver='sag', random_state=42))])\n",
    "    \n",
    "    def sample_size(self):\n",
    "        return None\n",
    "     \n",
    "    def require_balance(self):\n",
    "        return False\n",
    "\n",
    "\n",
    "class _NaiveBayes:\n",
    "    def provide(self):\n",
    "        return Pipeline([('scaler', StandardScaler()),\n",
    "                  ('nb',GaussianNB())])\n",
    "    \n",
    "    def sample_size(self):\n",
    "        return None   \n",
    "     \n",
    "    def require_balance(self):\n",
    "        return False \n",
    "   \n",
    "_models = [\n",
    "    _LogisticRegression()    ,\n",
    "    _DeepLearning(),\n",
    "    _RandonForest(),\n",
    "    _SuppotVectorMachine(),\n",
    "    _NaiveBayes()\n",
    "]\n",
    "\n",
    "def feature_extract_certified(data):\n",
    "    return feature_extract(data, target='certified')\n",
    "\n",
    "\n",
    "def evaluate(y_pred, y_test):\n",
    "    return {'f1': f1_score(y_test, y_pred),\n",
    "            'accuracy':accuracy_score(y_test, y_pred),\n",
    "            'precision':precision_score(y_test, y_pred),\n",
    "           'recall_score':recall_score(y_test, y_pred)}\n",
    "\n",
    "\n",
    "\n",
    "results1, plt, models = train_evaluate(_models, cen1df, feature_extractor= feature_extract_certified, \n",
    "                              label='certified', split_criteria='course_id', evaluation=evaluate, \n",
    "                              plots= [], plot_enabled=False, balance=True)\n"
   ]
  },
  {
   "cell_type": "code",
   "execution_count": 23,
   "metadata": {
    "scrolled": false
   },
   "outputs": [
    {
     "data": {
      "text/plain": [
       "{'_DeepLearning': {'7.00x': {'accuracy': 0.8778343359555761,\n",
       "   'f1': 0.034930950446791224,\n",
       "   'n_test': 19449,\n",
       "   'n_train': 1560,\n",
       "   'precision': 0.017775940471269118,\n",
       "   'recall_score': 1.0,\n",
       "   'test_time': 20001,\n",
       "   'train_time': 32998},\n",
       "  '8.02x': {'accuracy': 0.9986433319766653,\n",
       "   'f1': 0.0,\n",
       "   'n_test': 29484,\n",
       "   'n_train': 1564,\n",
       "   'precision': 0.0,\n",
       "   'recall_score': 0.0,\n",
       "   'test_time': 28001,\n",
       "   'train_time': 159715},\n",
       "  '8.MReV': {'accuracy': 0.9983170649612925,\n",
       "   'f1': 0.0,\n",
       "   'n_test': 8913,\n",
       "   'n_train': 564,\n",
       "   'precision': 0.0,\n",
       "   'recall_score': 0.0,\n",
       "   'test_time': 10004,\n",
       "   'train_time': 421956},\n",
       "  'CS50x': {'accuracy': 0.9895802802916565,\n",
       "   'f1': 0.06844919786096258,\n",
       "   'n_test': 167183,\n",
       "   'n_train': 2438,\n",
       "   'precision': 0.03551609322974473,\n",
       "   'recall_score': 0.9411764705882353,\n",
       "   'test_time': 191999,\n",
       "   'train_time': 619456},\n",
       "  'PH278x': {'accuracy': 0.9588256823172645,\n",
       "   'f1': 0.04371584699453552,\n",
       "   'n_test': 38252,\n",
       "   'n_train': 1350,\n",
       "   'precision': 0.0223463687150838,\n",
       "   'recall_score': 1.0,\n",
       "   'test_time': 38000,\n",
       "   'train_time': 930999}},\n",
       " '_LogisticRegression': {'7.00x': {'accuracy': 0.9838172298905283,\n",
       "   'f1': 0.7874999999999999,\n",
       "   'n_test': 8404,\n",
       "   'n_train': 12605,\n",
       "   'precision': 0.7567567567567568,\n",
       "   'recall_score': 0.8208469055374593,\n",
       "   'test_time': 4999,\n",
       "   'train_time': 508004},\n",
       "  '8.02x': {'accuracy': 0.9928335614783799,\n",
       "   'f1': 0.8693098384728339,\n",
       "   'n_test': 12419,\n",
       "   'n_train': 18629,\n",
       "   'precision': 0.8731563421828908,\n",
       "   'recall_score': 0.8654970760233918,\n",
       "   'test_time': 6001,\n",
       "   'train_time': 794029},\n",
       "  '8.MReV': {'accuracy': 0.9839092587707728,\n",
       "   'f1': 0.7715355805243446,\n",
       "   'n_test': 3791,\n",
       "   'n_train': 5686,\n",
       "   'precision': 0.7518248175182481,\n",
       "   'recall_score': 0.7923076923076923,\n",
       "   'test_time': 1978,\n",
       "   'train_time': 219036},\n",
       "  'CS50x': {'accuracy': 0.9945024171677869,\n",
       "   'f1': 0.5950054288816504,\n",
       "   'n_test': 67848,\n",
       "   'n_train': 101773,\n",
       "   'precision': 0.7043701799485861,\n",
       "   'recall_score': 0.5150375939849624,\n",
       "   'test_time': 34000,\n",
       "   'train_time': 236999},\n",
       "  'PH278x': {'accuracy': 0.9902152641878669,\n",
       "   'f1': 0.7013487475915221,\n",
       "   'n_test': 15841,\n",
       "   'n_train': 23761,\n",
       "   'precision': 0.7193675889328063,\n",
       "   'recall_score': 0.6842105263157895,\n",
       "   'test_time': 7997,\n",
       "   'train_time': 93001}},\n",
       " '_NaiveBayes': {'7.00x': {'accuracy': 0.9568062827225131,\n",
       "   'f1': 0.6182965299684542,\n",
       "   'n_test': 8404,\n",
       "   'n_train': 12605,\n",
       "   'precision': 0.45652173913043476,\n",
       "   'recall_score': 0.9576547231270358,\n",
       "   'test_time': 5001,\n",
       "   'train_time': 14999},\n",
       "  '8.02x': {'accuracy': 0.9690796360415492,\n",
       "   'f1': 0.6390977443609023,\n",
       "   'n_test': 12419,\n",
       "   'n_train': 18629,\n",
       "   'precision': 0.4709141274238227,\n",
       "   'recall_score': 0.9941520467836257,\n",
       "   'test_time': 7001,\n",
       "   'train_time': 22999},\n",
       "  '8.MReV': {'accuracy': 0.8770772883144289,\n",
       "   'f1': 0.3581267217630854,\n",
       "   'n_test': 3791,\n",
       "   'n_train': 5686,\n",
       "   'precision': 0.2181208053691275,\n",
       "   'recall_score': 1.0,\n",
       "   'test_time': 2995,\n",
       "   'train_time': 4001},\n",
       "  'CS50x': {'accuracy': 0.9539706402546869,\n",
       "   'f1': 0.25269203158650394,\n",
       "   'n_test': 67848,\n",
       "   'n_train': 101773,\n",
       "   'precision': 0.14477652865368795,\n",
       "   'recall_score': 0.9924812030075187,\n",
       "   'test_time': 33999,\n",
       "   'train_time': 129002},\n",
       "  'PH278x': {'accuracy': 0.9501294110220314,\n",
       "   'f1': 0.39509954058192953,\n",
       "   'n_test': 15841,\n",
       "   'n_train': 23761,\n",
       "   'precision': 0.24807692307692308,\n",
       "   'recall_score': 0.9699248120300752,\n",
       "   'test_time': 8000,\n",
       "   'train_time': 30032}},\n",
       " '_RandonForest': {'7.00x': {'accuracy': 0.9826273203236554,\n",
       "   'f1': 0.7637540453074434,\n",
       "   'n_test': 8404,\n",
       "   'n_train': 12605,\n",
       "   'precision': 0.7588424437299035,\n",
       "   'recall_score': 0.7687296416938111,\n",
       "   'test_time': 5901,\n",
       "   'train_time': 121232},\n",
       "  '8.02x': {'accuracy': 0.9914646911989693,\n",
       "   'f1': 0.8389057750759878,\n",
       "   'n_test': 12419,\n",
       "   'n_train': 18629,\n",
       "   'precision': 0.8734177215189873,\n",
       "   'recall_score': 0.8070175438596491,\n",
       "   'test_time': 9997,\n",
       "   'train_time': 132002},\n",
       "  '8.MReV': {'accuracy': 0.9852281719862833,\n",
       "   'f1': 0.7812500000000001,\n",
       "   'n_test': 3791,\n",
       "   'n_train': 5686,\n",
       "   'precision': 0.7936507936507936,\n",
       "   'recall_score': 0.7692307692307693,\n",
       "   'test_time': 5907,\n",
       "   'train_time': 113203},\n",
       "  'CS50x': {'accuracy': 0.994694021931376,\n",
       "   'f1': 0.6153846153846153,\n",
       "   'n_test': 67848,\n",
       "   'n_train': 101773,\n",
       "   'precision': 0.7128712871287128,\n",
       "   'recall_score': 0.5413533834586466,\n",
       "   'test_time': 38001,\n",
       "   'train_time': 304999},\n",
       "  'PH278x': {'accuracy': 0.9908465374660691,\n",
       "   'f1': 0.7117296222664017,\n",
       "   'n_test': 15841,\n",
       "   'n_train': 23761,\n",
       "   'precision': 0.7552742616033755,\n",
       "   'recall_score': 0.6729323308270677,\n",
       "   'test_time': 7999,\n",
       "   'train_time': 137000}},\n",
       " '_SuppotVectorMachine': {'7.00x': {'accuracy': 0.983698238933841,\n",
       "   'f1': 0.7882534775888719,\n",
       "   'n_test': 8404,\n",
       "   'n_train': 12605,\n",
       "   'precision': 0.75,\n",
       "   'recall_score': 0.8306188925081434,\n",
       "   'test_time': 7997,\n",
       "   'train_time': 406000},\n",
       "  '8.02x': {'accuracy': 0.9923504307915291,\n",
       "   'f1': 0.8592592592592593,\n",
       "   'n_test': 12419,\n",
       "   'n_train': 18629,\n",
       "   'precision': 0.8708708708708709,\n",
       "   'recall_score': 0.847953216374269,\n",
       "   'test_time': 6001,\n",
       "   'train_time': 528998},\n",
       "  '8.MReV': {'accuracy': 0.9847006067000791,\n",
       "   'f1': 0.7898550724637682,\n",
       "   'n_test': 3791,\n",
       "   'n_train': 5686,\n",
       "   'precision': 0.7465753424657534,\n",
       "   'recall_score': 0.8384615384615385,\n",
       "   'test_time': 4968,\n",
       "   'train_time': 81028},\n",
       "  'CS50x': {'accuracy': 0.9952983138780804,\n",
       "   'f1': 0.6781029263370333,\n",
       "   'n_test': 67848,\n",
       "   'n_train': 101773,\n",
       "   'precision': 0.7320261437908496,\n",
       "   'recall_score': 0.631578947368421,\n",
       "   'test_time': 36997,\n",
       "   'train_time': 182999},\n",
       "  'PH278x': {'accuracy': 0.9902152641878669,\n",
       "   'f1': 0.7080979284369114,\n",
       "   'n_test': 15841,\n",
       "   'n_train': 23761,\n",
       "   'precision': 0.7094339622641509,\n",
       "   'recall_score': 0.706766917293233,\n",
       "   'test_time': 8001,\n",
       "   'train_time': 944002}}}"
      ]
     },
     "execution_count": 23,
     "metadata": {},
     "output_type": "execute_result"
    }
   ],
   "source": [
    "results1"
   ]
  },
  {
   "cell_type": "markdown",
   "metadata": {},
   "source": [
    "### Cenário 2\n"
   ]
  },
  {
   "cell_type": "code",
   "execution_count": 26,
   "metadata": {
    "scrolled": false
   },
   "outputs": [
    {
     "name": "stdout",
     "output_type": "stream",
     "text": [
      "2018-06-21 23:53:58 Iniciando modelo _LogisticRegression\n",
      "2018-06-21 23:53:58 Iniciando curso PH207x\n",
      "(41271, 35)\n"
     ]
    },
    {
     "name": "stderr",
     "output_type": "stream",
     "text": [
      "D:\\Programs\\Anaconda\\lib\\site-packages\\sklearn\\linear_model\\sag.py:326: ConvergenceWarning: The max_iter was reached which means the coef_ did not converge\n",
      "  \"the coef_ did not converge\", ConvergenceWarning)\n"
     ]
    },
    {
     "name": "stdout",
     "output_type": "stream",
     "text": [
      "2018-06-21 23:54:03 Treinamento OK!\n",
      "2018-06-21 23:54:03 Resultados {'f1': 0.7174211248285322, 'accuracy': 0.9750424036830627, 'precision': 0.7418439716312056, 'recall_score': 0.6945551128818062, 'train_time': 109004, 'test_time': 9006, 'n_test': 16508, 'n_train': 24763}\n",
      "2018-06-21 23:54:03 Iniciando curso ER22x\n",
      "(54721, 35)\n"
     ]
    },
    {
     "name": "stderr",
     "output_type": "stream",
     "text": [
      "D:\\Programs\\Anaconda\\lib\\site-packages\\sklearn\\linear_model\\sag.py:326: ConvergenceWarning: The max_iter was reached which means the coef_ did not converge\n",
      "  \"the coef_ did not converge\", ConvergenceWarning)\n"
     ]
    },
    {
     "name": "stdout",
     "output_type": "stream",
     "text": [
      "2018-06-21 23:54:10 Treinamento OK!\n",
      "2018-06-21 23:54:10 Resultados {'f1': 0.7279029462738302, 'accuracy': 0.9784813596491229, 'precision': 0.8066581306017926, 'recall_score': 0.6631578947368421, 'train_time': 837000, 'test_time': 9966, 'n_test': 21888, 'n_train': 32833}\n",
      "2018-06-21 23:54:10 Iniciando curso 6.00x\n",
      "(66151, 35)\n"
     ]
    },
    {
     "name": "stderr",
     "output_type": "stream",
     "text": [
      "D:\\Programs\\Anaconda\\lib\\site-packages\\sklearn\\linear_model\\sag.py:326: ConvergenceWarning: The max_iter was reached which means the coef_ did not converge\n",
      "  \"the coef_ did not converge\", ConvergenceWarning)\n"
     ]
    },
    {
     "name": "stdout",
     "output_type": "stream",
     "text": [
      "2018-06-21 23:54:18 Treinamento OK!\n",
      "2018-06-21 23:54:18 Resultados {'f1': 0.8785894206549119, 'accuracy': 0.9908919123204838, 'precision': 0.8659384309831182, 'recall_score': 0.8916155419222904, 'train_time': 78002, 'test_time': 13996, 'n_test': 26460, 'n_train': 39691}\n",
      "2018-06-21 23:54:18 Iniciando curso 3.091x\n",
      "(5358, 35)\n"
     ]
    },
    {
     "name": "stderr",
     "output_type": "stream",
     "text": [
      "D:\\Programs\\Anaconda\\lib\\site-packages\\sklearn\\linear_model\\sag.py:326: ConvergenceWarning: The max_iter was reached which means the coef_ did not converge\n",
      "  \"the coef_ did not converge\", ConvergenceWarning)\n"
     ]
    },
    {
     "name": "stdout",
     "output_type": "stream",
     "text": [
      "2018-06-21 23:54:18 Treinamento OK!\n",
      "2018-06-21 23:54:18 Resultados {'f1': 0.8380952380952381, 'accuracy': 0.9920671955202987, 'precision': 0.88, 'recall_score': 0.8, 'train_time': 121037, 'test_time': 1995, 'n_test': 2143, 'n_train': 3215}\n",
      "2018-06-21 23:54:18 Iniciando curso 14.73x\n",
      "(25192, 35)\n"
     ]
    },
    {
     "name": "stderr",
     "output_type": "stream",
     "text": [
      "D:\\Programs\\Anaconda\\lib\\site-packages\\sklearn\\linear_model\\sag.py:326: ConvergenceWarning: The max_iter was reached which means the coef_ did not converge\n",
      "  \"the coef_ did not converge\", ConvergenceWarning)\n"
     ]
    },
    {
     "name": "stdout",
     "output_type": "stream",
     "text": [
      "2018-06-21 23:54:21 Treinamento OK!\n",
      "2018-06-21 23:54:21 Resultados {'f1': 0.915606936416185, 'accuracy': 0.9855115609804506, 'precision': 0.9030786773090079, 'recall_score': 0.9284876905041032, 'train_time': 654969, 'test_time': 5998, 'n_test': 10077, 'n_train': 15115}\n",
      "2018-06-21 23:54:21 Iniciando modelo _DeepLearning\n",
      "2018-06-21 23:54:21 Iniciando curso PH207x\n",
      "(41271, 35)\n",
      "1735 37472\n",
      "2018-06-21 23:54:28 Treinamento OK!\n"
     ]
    },
    {
     "name": "stderr",
     "output_type": "stream",
     "text": [
      "D:\\Programs\\Anaconda\\lib\\site-packages\\sklearn\\metrics\\classification.py:1135: UndefinedMetricWarning: F-score is ill-defined and being set to 0.0 due to no predicted samples.\n",
      "  'precision', 'predicted', average, warn_for)\n",
      "D:\\Programs\\Anaconda\\lib\\site-packages\\sklearn\\metrics\\classification.py:1135: UndefinedMetricWarning: Precision is ill-defined and being set to 0.0 due to no predicted samples.\n",
      "  'precision', 'predicted', average, warn_for)\n"
     ]
    },
    {
     "name": "stdout",
     "output_type": "stream",
     "text": [
      "2018-06-21 23:54:29 Resultados {'f1': 0.0, 'accuracy': 0.9971958413798577, 'precision': 0.0, 'recall_score': 0.0, 'train_time': 317570, 'test_time': 35001, 'n_test': 37801, 'n_train': 3470}\n",
      "2018-06-21 23:54:29 Iniciando curso ER22x\n",
      "(54721, 35)\n",
      "2249 49736\n",
      "2018-06-21 23:54:38 Treinamento OK!\n",
      "2018-06-21 23:54:39 Resultados {'f1': 0.04534606205250597, 'accuracy': 0.9203552157378093, 'precision': 0.0231990231990232, 'recall_score': 1.0, 'train_time': 14000, 'test_time': 48033, 'n_test': 50223, 'n_train': 4498}\n",
      "2018-06-21 23:54:39 Iniciando curso 6.00x\n",
      "(66151, 35)\n",
      "2340 60503\n",
      "2018-06-21 23:54:49 Treinamento OK!\n",
      "2018-06-21 23:54:50 Resultados {'f1': 0.0, 'accuracy': 0.9978038424622993, 'precision': 0.0, 'recall_score': 0.0, 'train_time': 170821, 'test_time': 56004, 'n_test': 61471, 'n_train': 4680}\n",
      "2018-06-21 23:54:50 Iniciando curso 3.091x\n",
      "(5358, 35)\n",
      "135 4955\n",
      "2018-06-21 23:54:52 Treinamento OK!\n",
      "2018-06-21 23:54:53 Resultados {'f1': 0.0052677787532923615, 'accuracy': 0.7773191823899371, 'precision': 0.002640845070422535, 'recall_score': 1.0, 'train_time': 233999, 'test_time': 6002, 'n_test': 5088, 'n_train': 270}\n",
      "2018-06-21 23:54:53 Iniciando curso 14.73x\n",
      "(25192, 35)\n",
      "1973 21959\n",
      "2018-06-21 23:54:59 Treinamento OK!\n",
      "2018-06-21 23:54:59 Resultados {'f1': 0.16577946768060833, 'accuracy': 0.9483667513884967, 'precision': 0.09053156146179402, 'recall_score': 0.9819819819819819, 'train_time': 795967, 'test_time': 21001, 'n_test': 21246, 'n_train': 3946}\n",
      "2018-06-21 23:54:59 Iniciando modelo _RandonForest\n",
      "2018-06-21 23:54:59 Iniciando curso PH207x\n",
      "(41271, 35)\n",
      "2018-06-21 23:55:03 Treinamento OK!\n",
      "2018-06-21 23:55:03 Resultados {'f1': 0.7488402915838303, 'accuracy': 0.9770414344560213, 'precision': 0.7473544973544973, 'recall_score': 0.750332005312085, 'train_time': 128848, 'test_time': 10025, 'n_test': 16508, 'n_train': 24763}\n",
      "2018-06-21 23:55:03 Iniciando curso ER22x\n",
      "(54721, 35)\n",
      "2018-06-21 23:55:08 Treinamento OK!\n",
      "2018-06-21 23:55:08 Resultados {'f1': 0.7170900692840646, 'accuracy': 0.9776133040935673, 'precision': 0.7941176470588235, 'recall_score': 0.6536842105263158, 'train_time': 134966, 'test_time': 12023, 'n_test': 21888, 'n_train': 32833}\n",
      "2018-06-21 23:55:08 Iniciando curso 6.00x\n",
      "(66151, 35)\n",
      "2018-06-21 23:55:14 Treinamento OK!\n",
      "2018-06-21 23:55:14 Resultados {'f1': 0.891304347826087, 'accuracy': 0.9920634920634921, 'precision': 0.9025157232704403, 'recall_score': 0.8803680981595092, 'train_time': 152000, 'test_time': 15984, 'n_test': 26460, 'n_train': 39691}\n",
      "2018-06-21 23:55:14 Iniciando curso 3.091x\n",
      "(5358, 35)\n",
      "2018-06-21 23:55:15 Treinamento OK!\n",
      "2018-06-21 23:55:15 Resultados {'f1': 0.8235294117647058, 'accuracy': 0.9916005599626692, 'precision': 0.8936170212765957, 'recall_score': 0.7636363636363637, 'train_time': 108983, 'test_time': 2937, 'n_test': 2143, 'n_train': 3215}\n",
      "2018-06-21 23:55:15 Iniciando curso 14.73x\n",
      "(25192, 35)\n",
      "2018-06-21 23:55:17 Treinamento OK!\n",
      "2018-06-21 23:55:17 Resultados {'f1': 0.9113329418672931, 'accuracy': 0.9850153815619728, 'precision': 0.9129411764705883, 'recall_score': 0.9097303634232122, 'train_time': 121081, 'test_time': 6944, 'n_test': 10077, 'n_train': 15115}\n",
      "2018-06-21 23:55:17 Iniciando modelo _SuppotVectorMachine\n",
      "2018-06-21 23:55:17 Iniciando curso PH207x\n",
      "(41271, 35)\n",
      "2018-06-21 23:55:23 Treinamento OK!\n",
      "2018-06-21 23:55:23 Resultados {'f1': 0.7293796864349011, 'accuracy': 0.9759510540344075, 'precision': 0.7492997198879552, 'recall_score': 0.7104913678618858, 'train_time': 776964, 'test_time': 8000, 'n_test': 16508, 'n_train': 24763}\n",
      "2018-06-21 23:55:23 Iniciando curso ER22x\n",
      "(54721, 35)\n",
      "2018-06-21 23:55:32 Treinamento OK!\n",
      "2018-06-21 23:55:33 Resultados {'f1': 0.7384960718294051, 'accuracy': 0.9787097953216374, 'precision': 0.7908653846153846, 'recall_score': 0.6926315789473684, 'train_time': 25033, 'test_time': 11002, 'n_test': 21888, 'n_train': 32833}\n",
      "2018-06-21 23:55:33 Iniciando curso 6.00x\n",
      "(66151, 35)\n",
      "2018-06-21 23:55:41 Treinamento OK!\n",
      "2018-06-21 23:55:42 Resultados {'f1': 0.891139240506329, 'accuracy': 0.9918745275888133, 'precision': 0.8826479438314945, 'recall_score': 0.8997955010224948, 'train_time': 215000, 'test_time': 13000, 'n_test': 26460, 'n_train': 39691}\n",
      "2018-06-21 23:55:42 Iniciando curso 3.091x\n",
      "(5358, 35)\n",
      "2018-06-21 23:55:43 Treinamento OK!\n",
      "2018-06-21 23:55:43 Resultados {'f1': 0.84, 'accuracy': 0.9925338310779281, 'precision': 0.9333333333333333, 'recall_score': 0.7636363636363637, 'train_time': 23039, 'test_time': 2000, 'n_test': 2143, 'n_train': 3215}\n",
      "2018-06-21 23:55:43 Iniciando curso 14.73x\n",
      "(25192, 35)\n",
      "2018-06-21 23:55:45 Treinamento OK!\n",
      "2018-06-21 23:55:46 Resultados {'f1': 0.9073114565342544, 'accuracy': 0.9840230227250174, 'precision': 0.8914027149321267, 'recall_score': 0.9237983587338804, 'train_time': 518032, 'test_time': 6034, 'n_test': 10077, 'n_train': 15115}\n",
      "2018-06-21 23:55:46 Iniciando modelo _NaiveBayes\n",
      "2018-06-21 23:55:46 Iniciando curso PH207x\n",
      "(41271, 35)\n",
      "2018-06-21 23:55:49 Treinamento OK!\n",
      "2018-06-21 23:55:49 Resultados {'f1': 0.6008032128514056, 'accuracy': 0.9397867700508844, 'precision': 0.43062751871042027, 'recall_score': 0.9933598937583001, 'train_time': 30000, 'test_time': 8034, 'n_test': 16508, 'n_train': 24763}\n",
      "2018-06-21 23:55:49 Iniciando curso ER22x\n",
      "(54721, 35)\n",
      "2018-06-21 23:55:54 Treinamento OK!\n",
      "2018-06-21 23:55:54 Resultados {'f1': 0.4162436548223351, 'accuracy': 0.8844115497076024, 'precision': 0.266548463356974, 'recall_score': 0.9494736842105264, 'train_time': 39966, 'test_time': 11022, 'n_test': 21888, 'n_train': 32833}\n",
      "2018-06-21 23:55:54 Iniciando curso 6.00x\n",
      "(66151, 35)\n",
      "2018-06-21 23:56:00 Treinamento OK!\n",
      "2018-06-21 23:56:00 Resultados {'f1': 0.7235469448584203, 'accuracy': 0.9719576719576719, 'precision': 0.5691676436107854, 'recall_score': 0.9928425357873211, 'train_time': 47000, 'test_time': 13033, 'n_test': 26460, 'n_train': 39691}\n",
      "2018-06-21 23:56:00 Iniciando curso 3.091x\n",
      "(5358, 35)\n",
      "2018-06-21 23:56:01 Treinamento OK!\n",
      "2018-06-21 23:56:01 Resultados {'f1': 0.15999999999999998, 'accuracy': 0.7452169855342977, 'precision': 0.08739495798319327, 'recall_score': 0.9454545454545454, 'train_time': 3002, 'test_time': 2001, 'n_test': 2143, 'n_train': 3215}\n",
      "2018-06-21 23:56:01 Iniciando curso 14.73x\n",
      "(25192, 35)\n",
      "2018-06-21 23:56:03 Treinamento OK!\n",
      "2018-06-21 23:56:03 Resultados {'f1': 0.8237008256435163, 'accuracy': 0.9639773742185174, 'precision': 0.703150912106136, 'recall_score': 0.9941383352872216, 'train_time': 17985, 'test_time': 6001, 'n_test': 10077, 'n_train': 15115}\n"
     ]
    }
   ],
   "source": [
    "results2, plt, model = train_evaluate(_models, cen2df, feature_extractor= feature_extract_certified, \n",
    "                              label='certified', split_criteria='course_id', evaluation=evaluate, \n",
    "                              plots= [], plot_enabled=False, balance=True)"
   ]
  },
  {
   "cell_type": "code",
   "execution_count": 27,
   "metadata": {
    "scrolled": false
   },
   "outputs": [
    {
     "data": {
      "text/plain": [
       "{'_DeepLearning': {'14.73x': {'accuracy': 0.9483667513884967,\n",
       "   'f1': 0.16577946768060833,\n",
       "   'n_test': 21246,\n",
       "   'n_train': 3946,\n",
       "   'precision': 0.09053156146179402,\n",
       "   'recall_score': 0.9819819819819819,\n",
       "   'test_time': 21001,\n",
       "   'train_time': 795967},\n",
       "  '3.091x': {'accuracy': 0.7773191823899371,\n",
       "   'f1': 0.0052677787532923615,\n",
       "   'n_test': 5088,\n",
       "   'n_train': 270,\n",
       "   'precision': 0.002640845070422535,\n",
       "   'recall_score': 1.0,\n",
       "   'test_time': 6002,\n",
       "   'train_time': 233999},\n",
       "  '6.00x': {'accuracy': 0.9978038424622993,\n",
       "   'f1': 0.0,\n",
       "   'n_test': 61471,\n",
       "   'n_train': 4680,\n",
       "   'precision': 0.0,\n",
       "   'recall_score': 0.0,\n",
       "   'test_time': 56004,\n",
       "   'train_time': 170821},\n",
       "  'ER22x': {'accuracy': 0.9203552157378093,\n",
       "   'f1': 0.04534606205250597,\n",
       "   'n_test': 50223,\n",
       "   'n_train': 4498,\n",
       "   'precision': 0.0231990231990232,\n",
       "   'recall_score': 1.0,\n",
       "   'test_time': 48033,\n",
       "   'train_time': 14000},\n",
       "  'PH207x': {'accuracy': 0.9971958413798577,\n",
       "   'f1': 0.0,\n",
       "   'n_test': 37801,\n",
       "   'n_train': 3470,\n",
       "   'precision': 0.0,\n",
       "   'recall_score': 0.0,\n",
       "   'test_time': 35001,\n",
       "   'train_time': 317570}},\n",
       " '_LogisticRegression': {'14.73x': {'accuracy': 0.9855115609804506,\n",
       "   'f1': 0.915606936416185,\n",
       "   'n_test': 10077,\n",
       "   'n_train': 15115,\n",
       "   'precision': 0.9030786773090079,\n",
       "   'recall_score': 0.9284876905041032,\n",
       "   'test_time': 5998,\n",
       "   'train_time': 654969},\n",
       "  '3.091x': {'accuracy': 0.9920671955202987,\n",
       "   'f1': 0.8380952380952381,\n",
       "   'n_test': 2143,\n",
       "   'n_train': 3215,\n",
       "   'precision': 0.88,\n",
       "   'recall_score': 0.8,\n",
       "   'test_time': 1995,\n",
       "   'train_time': 121037},\n",
       "  '6.00x': {'accuracy': 0.9908919123204838,\n",
       "   'f1': 0.8785894206549119,\n",
       "   'n_test': 26460,\n",
       "   'n_train': 39691,\n",
       "   'precision': 0.8659384309831182,\n",
       "   'recall_score': 0.8916155419222904,\n",
       "   'test_time': 13996,\n",
       "   'train_time': 78002},\n",
       "  'ER22x': {'accuracy': 0.9784813596491229,\n",
       "   'f1': 0.7279029462738302,\n",
       "   'n_test': 21888,\n",
       "   'n_train': 32833,\n",
       "   'precision': 0.8066581306017926,\n",
       "   'recall_score': 0.6631578947368421,\n",
       "   'test_time': 9966,\n",
       "   'train_time': 837000},\n",
       "  'PH207x': {'accuracy': 0.9750424036830627,\n",
       "   'f1': 0.7174211248285322,\n",
       "   'n_test': 16508,\n",
       "   'n_train': 24763,\n",
       "   'precision': 0.7418439716312056,\n",
       "   'recall_score': 0.6945551128818062,\n",
       "   'test_time': 9006,\n",
       "   'train_time': 109004}},\n",
       " '_NaiveBayes': {'14.73x': {'accuracy': 0.9639773742185174,\n",
       "   'f1': 0.8237008256435163,\n",
       "   'n_test': 10077,\n",
       "   'n_train': 15115,\n",
       "   'precision': 0.703150912106136,\n",
       "   'recall_score': 0.9941383352872216,\n",
       "   'test_time': 6001,\n",
       "   'train_time': 17985},\n",
       "  '3.091x': {'accuracy': 0.7452169855342977,\n",
       "   'f1': 0.15999999999999998,\n",
       "   'n_test': 2143,\n",
       "   'n_train': 3215,\n",
       "   'precision': 0.08739495798319327,\n",
       "   'recall_score': 0.9454545454545454,\n",
       "   'test_time': 2001,\n",
       "   'train_time': 3002},\n",
       "  '6.00x': {'accuracy': 0.9719576719576719,\n",
       "   'f1': 0.7235469448584203,\n",
       "   'n_test': 26460,\n",
       "   'n_train': 39691,\n",
       "   'precision': 0.5691676436107854,\n",
       "   'recall_score': 0.9928425357873211,\n",
       "   'test_time': 13033,\n",
       "   'train_time': 47000},\n",
       "  'ER22x': {'accuracy': 0.8844115497076024,\n",
       "   'f1': 0.4162436548223351,\n",
       "   'n_test': 21888,\n",
       "   'n_train': 32833,\n",
       "   'precision': 0.266548463356974,\n",
       "   'recall_score': 0.9494736842105264,\n",
       "   'test_time': 11022,\n",
       "   'train_time': 39966},\n",
       "  'PH207x': {'accuracy': 0.9397867700508844,\n",
       "   'f1': 0.6008032128514056,\n",
       "   'n_test': 16508,\n",
       "   'n_train': 24763,\n",
       "   'precision': 0.43062751871042027,\n",
       "   'recall_score': 0.9933598937583001,\n",
       "   'test_time': 8034,\n",
       "   'train_time': 30000}},\n",
       " '_RandonForest': {'14.73x': {'accuracy': 0.9850153815619728,\n",
       "   'f1': 0.9113329418672931,\n",
       "   'n_test': 10077,\n",
       "   'n_train': 15115,\n",
       "   'precision': 0.9129411764705883,\n",
       "   'recall_score': 0.9097303634232122,\n",
       "   'test_time': 6944,\n",
       "   'train_time': 121081},\n",
       "  '3.091x': {'accuracy': 0.9916005599626692,\n",
       "   'f1': 0.8235294117647058,\n",
       "   'n_test': 2143,\n",
       "   'n_train': 3215,\n",
       "   'precision': 0.8936170212765957,\n",
       "   'recall_score': 0.7636363636363637,\n",
       "   'test_time': 2937,\n",
       "   'train_time': 108983},\n",
       "  '6.00x': {'accuracy': 0.9920634920634921,\n",
       "   'f1': 0.891304347826087,\n",
       "   'n_test': 26460,\n",
       "   'n_train': 39691,\n",
       "   'precision': 0.9025157232704403,\n",
       "   'recall_score': 0.8803680981595092,\n",
       "   'test_time': 15984,\n",
       "   'train_time': 152000},\n",
       "  'ER22x': {'accuracy': 0.9776133040935673,\n",
       "   'f1': 0.7170900692840646,\n",
       "   'n_test': 21888,\n",
       "   'n_train': 32833,\n",
       "   'precision': 0.7941176470588235,\n",
       "   'recall_score': 0.6536842105263158,\n",
       "   'test_time': 12023,\n",
       "   'train_time': 134966},\n",
       "  'PH207x': {'accuracy': 0.9770414344560213,\n",
       "   'f1': 0.7488402915838303,\n",
       "   'n_test': 16508,\n",
       "   'n_train': 24763,\n",
       "   'precision': 0.7473544973544973,\n",
       "   'recall_score': 0.750332005312085,\n",
       "   'test_time': 10025,\n",
       "   'train_time': 128848}},\n",
       " '_SuppotVectorMachine': {'14.73x': {'accuracy': 0.9840230227250174,\n",
       "   'f1': 0.9073114565342544,\n",
       "   'n_test': 10077,\n",
       "   'n_train': 15115,\n",
       "   'precision': 0.8914027149321267,\n",
       "   'recall_score': 0.9237983587338804,\n",
       "   'test_time': 6034,\n",
       "   'train_time': 518032},\n",
       "  '3.091x': {'accuracy': 0.9925338310779281,\n",
       "   'f1': 0.84,\n",
       "   'n_test': 2143,\n",
       "   'n_train': 3215,\n",
       "   'precision': 0.9333333333333333,\n",
       "   'recall_score': 0.7636363636363637,\n",
       "   'test_time': 2000,\n",
       "   'train_time': 23039},\n",
       "  '6.00x': {'accuracy': 0.9918745275888133,\n",
       "   'f1': 0.891139240506329,\n",
       "   'n_test': 26460,\n",
       "   'n_train': 39691,\n",
       "   'precision': 0.8826479438314945,\n",
       "   'recall_score': 0.8997955010224948,\n",
       "   'test_time': 13000,\n",
       "   'train_time': 215000},\n",
       "  'ER22x': {'accuracy': 0.9787097953216374,\n",
       "   'f1': 0.7384960718294051,\n",
       "   'n_test': 21888,\n",
       "   'n_train': 32833,\n",
       "   'precision': 0.7908653846153846,\n",
       "   'recall_score': 0.6926315789473684,\n",
       "   'test_time': 11002,\n",
       "   'train_time': 25033},\n",
       "  'PH207x': {'accuracy': 0.9759510540344075,\n",
       "   'f1': 0.7293796864349011,\n",
       "   'n_test': 16508,\n",
       "   'n_train': 24763,\n",
       "   'precision': 0.7492997198879552,\n",
       "   'recall_score': 0.7104913678618858,\n",
       "   'test_time': 8000,\n",
       "   'train_time': 776964}}}"
      ]
     },
     "execution_count": 27,
     "metadata": {},
     "output_type": "execute_result"
    }
   ],
   "source": [
    "results2"
   ]
  },
  {
   "cell_type": "markdown",
   "metadata": {},
   "source": [
    "### Cenário 3"
   ]
  },
  {
   "cell_type": "code",
   "execution_count": 29,
   "metadata": {
    "scrolled": false
   },
   "outputs": [
    {
     "name": "stdout",
     "output_type": "stream",
     "text": [
      "2018-06-21 23:59:35 Iniciando modelo _LogisticRegression\n",
      "2018-06-21 23:59:35 Iniciando curso CB22x\n",
      "(30002, 35)\n"
     ]
    },
    {
     "name": "stderr",
     "output_type": "stream",
     "text": [
      "D:\\Programs\\Anaconda\\lib\\site-packages\\sklearn\\linear_model\\sag.py:326: ConvergenceWarning: The max_iter was reached which means the coef_ did not converge\n",
      "  \"the coef_ did not converge\", ConvergenceWarning)\n"
     ]
    },
    {
     "name": "stdout",
     "output_type": "stream",
     "text": [
      "2018-06-21 23:59:38 Treinamento OK!\n",
      "2018-06-21 23:59:38 Resultados {'f1': 0.8662420382165605, 'accuracy': 0.9965002916423631, 'precision': 0.8143712574850299, 'recall_score': 0.9251700680272109, 'train_time': 515964, 'test_time': 8032, 'n_test': 12001, 'n_train': 18001}\n",
      "2018-06-21 23:59:38 Iniciando curso 6.002x\n",
      "(40811, 35)\n"
     ]
    },
    {
     "name": "stderr",
     "output_type": "stream",
     "text": [
      "D:\\Programs\\Anaconda\\lib\\site-packages\\sklearn\\linear_model\\sag.py:326: ConvergenceWarning: The max_iter was reached which means the coef_ did not converge\n",
      "  \"the coef_ did not converge\", ConvergenceWarning)\n"
     ]
    },
    {
     "name": "stdout",
     "output_type": "stream",
     "text": [
      "2018-06-21 23:59:43 Treinamento OK!\n",
      "2018-06-21 23:59:43 Resultados {'f1': 0.8226363008971703, 'accuracy': 0.9842563097280078, 'precision': 0.7770534550195567, 'recall_score': 0.873900293255132, 'train_time': 713997, 'test_time': 11996, 'n_test': 16324, 'n_train': 24487}\n",
      "2018-06-21 23:59:43 Iniciando curso 2.01x\n",
      "(5665, 35)\n"
     ]
    },
    {
     "name": "stderr",
     "output_type": "stream",
     "text": [
      "D:\\Programs\\Anaconda\\lib\\site-packages\\sklearn\\linear_model\\sag.py:326: ConvergenceWarning: The max_iter was reached which means the coef_ did not converge\n",
      "  \"the coef_ did not converge\", ConvergenceWarning)\n"
     ]
    },
    {
     "name": "stdout",
     "output_type": "stream",
     "text": [
      "2018-06-21 23:59:43 Treinamento OK!\n",
      "2018-06-21 23:59:43 Resultados {'f1': 0.7909604519774012, 'accuracy': 0.9836716681376876, 'precision': 0.7954545454545454, 'recall_score': 0.7865168539325843, 'train_time': 87995, 'test_time': 3029, 'n_test': 2266, 'n_train': 3399}\n",
      "2018-06-21 23:59:43 Iniciando curso 3.091x\n",
      "(14215, 35)\n"
     ]
    },
    {
     "name": "stderr",
     "output_type": "stream",
     "text": [
      "D:\\Programs\\Anaconda\\lib\\site-packages\\sklearn\\linear_model\\sag.py:326: ConvergenceWarning: The max_iter was reached which means the coef_ did not converge\n",
      "  \"the coef_ did not converge\", ConvergenceWarning)\n"
     ]
    },
    {
     "name": "stdout",
     "output_type": "stream",
     "text": [
      "2018-06-21 23:59:45 Treinamento OK!\n",
      "2018-06-21 23:59:45 Resultados {'f1': 0.9124087591240876, 'accuracy': 0.9915582131551178, 'precision': 0.8771929824561403, 'recall_score': 0.9505703422053232, 'train_time': 235993, 'test_time': 3998, 'n_test': 5686, 'n_train': 8529}\n",
      "2018-06-21 23:59:45 Iniciando curso 6.00x\n",
      "(57715, 35)\n"
     ]
    },
    {
     "name": "stderr",
     "output_type": "stream",
     "text": [
      "D:\\Programs\\Anaconda\\lib\\site-packages\\sklearn\\linear_model\\sag.py:326: ConvergenceWarning: The max_iter was reached which means the coef_ did not converge\n",
      "  \"the coef_ did not converge\", ConvergenceWarning)\n"
     ]
    },
    {
     "name": "stdout",
     "output_type": "stream",
     "text": [
      "2018-06-21 23:59:51 Treinamento OK!\n",
      "2018-06-21 23:59:51 Resultados {'f1': 0.8532778355879291, 'accuracy': 0.9938924023217535, 'precision': 0.8836206896551724, 'recall_score': 0.8249496981891348, 'train_time': 83963, 'test_time': 10999, 'n_test': 23086, 'n_train': 34629}\n",
      "2018-06-21 23:59:51 Iniciando modelo _DeepLearning\n",
      "2018-06-21 23:59:51 Iniciando curso CB22x\n",
      "(30002, 35)\n",
      "370 28132\n",
      "2018-06-21 23:59:56 Treinamento OK!\n",
      "2018-06-21 23:59:57 Resultados {'f1': 0.07387862796833773, 'accuracy': 0.9880049210580275, 'precision': 0.038356164383561646, 'recall_score': 1.0, 'train_time': 808031, 'test_time': 28032, 'n_test': 29262, 'n_train': 740}\n",
      "2018-06-21 23:59:57 Iniciando curso 6.002x\n",
      "(40811, 35)\n",
      "1662 37108\n",
      "2018-06-22 00:00:04 Treinamento OK!\n",
      "2018-06-22 00:00:05 Resultados {'f1': 0.12888888888888891, 'accuracy': 0.9686291247632512, 'precision': 0.06893819334389857, 'recall_score': 0.9886363636363636, 'train_time': 645966, 'test_time': 37004, 'n_test': 37487, 'n_train': 3324}\n",
      "2018-06-22 00:00:05 Iniciando curso 2.01x\n",
      "(5665, 35)\n",
      "236 5146\n",
      "2018-06-22 00:00:08 Treinamento OK!\n",
      "2018-06-22 00:00:08 Resultados {'f1': 0.023012552301255228, 'accuracy': 0.8201424995185828, 'precision': 0.01164021164021164, 'recall_score': 1.0, 'train_time': 910449, 'test_time': 6994, 'n_test': 5193, 'n_train': 472}\n",
      "2018-06-22 00:00:08 Iniciando curso 3.091x\n",
      "(14215, 35)\n",
      "600 12904\n",
      "2018-06-22 00:00:12 Treinamento OK!\n",
      "2018-06-22 00:00:13 Resultados {'f1': 0.1391304347826087, 'accuracy': 0.9695735689588936, 'precision': 0.07476635514018691, 'recall_score': 1.0, 'train_time': 308965, 'test_time': 14003, 'n_test': 13015, 'n_train': 1200}\n",
      "2018-06-22 00:00:13 Iniciando curso 6.00x\n",
      "(57715, 35)\n",
      "1178 53651\n",
      "2018-06-22 00:00:21 Treinamento OK!\n",
      "2018-06-22 00:00:23 Resultados {'f1': 0.061957868649318466, 'accuracy': 0.958976860131144, 'precision': 0.0319693094629156, 'recall_score': 1.0, 'train_time': 538401, 'test_time': 60039, 'n_test': 55359, 'n_train': 2356}\n",
      "2018-06-22 00:00:23 Iniciando modelo _RandonForest\n",
      "2018-06-22 00:00:23 Iniciando curso CB22x\n",
      "(30002, 35)\n",
      "2018-06-22 00:00:26 Treinamento OK!\n",
      "2018-06-22 00:00:26 Resultados {'f1': 0.8163265306122449, 'accuracy': 0.9955003749687527, 'precision': 0.8163265306122449, 'recall_score': 0.8163265306122449, 'train_time': 114936, 'test_time': 8031, 'n_test': 12001, 'n_train': 18001}\n",
      "2018-06-22 00:00:26 Iniciando curso 6.002x\n",
      "(40811, 35)\n",
      "2018-06-22 00:00:30 Treinamento OK!\n",
      "2018-06-22 00:00:30 Resultados {'f1': 0.844950213371266, 'accuracy': 0.9866454300416565, 'precision': 0.8204419889502762, 'recall_score': 0.8709677419354839, 'train_time': 116526, 'test_time': 8007, 'n_test': 16324, 'n_train': 24487}\n",
      "2018-06-22 00:00:30 Iniciando curso 2.01x\n",
      "(5665, 35)\n",
      "2018-06-22 00:00:30 Treinamento OK!\n",
      "2018-06-22 00:00:30 Resultados {'f1': 0.7928994082840237, 'accuracy': 0.9845542806707855, 'precision': 0.8375, 'recall_score': 0.7528089887640449, 'train_time': 108898, 'test_time': 2938, 'n_test': 2266, 'n_train': 3399}\n",
      "2018-06-22 00:00:30 Iniciando curso 3.091x\n",
      "(14215, 35)\n",
      "2018-06-22 00:00:32 Treinamento OK!\n",
      "2018-06-22 00:00:32 Resultados {'f1': 0.8934579439252337, 'accuracy': 0.9899753781217024, 'precision': 0.8786764705882353, 'recall_score': 0.908745247148289, 'train_time': 109611, 'test_time': 5012, 'n_test': 5686, 'n_train': 8529}\n",
      "2018-06-22 00:00:32 Iniciando curso 6.00x\n",
      "(57715, 35)\n",
      "2018-06-22 00:00:37 Treinamento OK!\n",
      "2018-06-22 00:00:37 Resultados {'f1': 0.8594539939332659, 'accuracy': 0.9939790349129343, 'precision': 0.8638211382113821, 'recall_score': 0.8551307847082495, 'train_time': 119965, 'test_time': 12998, 'n_test': 23086, 'n_train': 34629}\n",
      "2018-06-22 00:00:37 Iniciando modelo _SuppotVectorMachine\n",
      "2018-06-22 00:00:37 Iniciando curso CB22x\n",
      "(30002, 35)\n",
      "2018-06-22 00:00:40 Treinamento OK!\n",
      "2018-06-22 00:00:40 Resultados {'f1': 0.8616352201257862, 'accuracy': 0.9963336388634281, 'precision': 0.8011695906432749, 'recall_score': 0.9319727891156463, 'train_time': 152001, 'test_time': 9002, 'n_test': 12001, 'n_train': 18001}\n",
      "2018-06-22 00:00:40 Iniciando curso 6.002x\n",
      "(40811, 35)\n",
      "2018-06-22 00:00:45 Treinamento OK!\n",
      "2018-06-22 00:00:45 Resultados {'f1': 0.8527988942639946, 'accuracy': 0.9869517275177653, 'precision': 0.8065359477124183, 'recall_score': 0.9046920821114369, 'train_time': 753001, 'test_time': 9000, 'n_test': 16324, 'n_train': 24487}\n",
      "2018-06-22 00:00:45 Iniciando curso 2.01x\n",
      "(5665, 35)\n",
      "2018-06-22 00:00:46 Treinamento OK!\n",
      "2018-06-22 00:00:46 Resultados {'f1': 0.8114285714285714, 'accuracy': 0.9854368932038835, 'precision': 0.8255813953488372, 'recall_score': 0.797752808988764, 'train_time': 24036, 'test_time': 2002, 'n_test': 2266, 'n_train': 3399}\n",
      "2018-06-22 00:00:46 Iniciando curso 3.091x\n",
      "(14215, 35)\n",
      "2018-06-22 00:00:47 Treinamento OK!\n",
      "2018-06-22 00:00:47 Resultados {'f1': 0.9107142857142857, 'accuracy': 0.9912064720365811, 'precision': 0.8585858585858586, 'recall_score': 0.9695817490494296, 'train_time': 73030, 'test_time': 2996, 'n_test': 5686, 'n_train': 8529}\n",
      "2018-06-22 00:00:47 Iniciando curso 6.00x\n",
      "(57715, 35)\n",
      "2018-06-22 00:00:53 Treinamento OK!\n",
      "2018-06-22 00:00:53 Resultados {'f1': 0.8781925343811394, 'accuracy': 0.9946287793467903, 'precision': 0.8579654510556622, 'recall_score': 0.8993963782696177, 'train_time': 750993, 'test_time': 11025, 'n_test': 23086, 'n_train': 34629}\n",
      "2018-06-22 00:00:53 Iniciando modelo _NaiveBayes\n",
      "2018-06-22 00:00:53 Iniciando curso CB22x\n",
      "(30002, 35)\n",
      "2018-06-22 00:00:56 Treinamento OK!\n",
      "2018-06-22 00:00:56 Resultados {'f1': 0.7923497267759563, 'accuracy': 0.9936671944004666, 'precision': 0.6621004566210046, 'recall_score': 0.9863945578231292, 'train_time': 10000, 'test_time': 6998, 'n_test': 12001, 'n_train': 18001}\n",
      "2018-06-22 00:00:56 Iniciando curso 6.002x\n",
      "(40811, 35)\n",
      "2018-06-22 00:01:00 Treinamento OK!\n",
      "2018-06-22 00:01:00 Resultados {'f1': 0.7108307045215563, 'accuracy': 0.9663072776280324, 'precision': 0.5540983606557377, 'recall_score': 0.9912023460410557, 'train_time': 13002, 'test_time': 8999, 'n_test': 16324, 'n_train': 24487}\n",
      "2018-06-22 00:01:00 Iniciando curso 2.01x\n",
      "(5665, 35)\n",
      "2018-06-22 00:01:00 Treinamento OK!\n",
      "2018-06-22 00:01:00 Resultados {'f1': 0.5933333333333334, 'accuracy': 0.9461606354810238, 'precision': 0.4218009478672986, 'recall_score': 1.0, 'train_time': 3029, 'test_time': 2041, 'n_test': 2266, 'n_train': 3399}\n",
      "2018-06-22 00:01:00 Iniciando curso 3.091x\n",
      "(14215, 35)\n",
      "2018-06-22 00:01:01 Treinamento OK!\n",
      "2018-06-22 00:01:01 Resultados {'f1': 0.8389154704944178, 'accuracy': 0.9822370735138938, 'precision': 0.7225274725274725, 'recall_score': 1.0, 'train_time': 3998, 'test_time': 2995, 'n_test': 5686, 'n_train': 8529}\n",
      "2018-06-22 00:01:01 Iniciando curso 6.00x\n",
      "(57715, 35)\n",
      "2018-06-22 00:01:07 Treinamento OK!\n",
      "2018-06-22 00:01:07 Resultados {'f1': 0.6334610472541508, 'accuracy': 0.9751364463311097, 'precision': 0.4639850327408793, 'recall_score': 0.9979879275653923, 'train_time': 18964, 'test_time': 26998, 'n_test': 23086, 'n_train': 34629}\n"
     ]
    }
   ],
   "source": [
    "def feat_extract_selected(df):\n",
    "    data=feature_extract(df, target='certified')\n",
    "    return data[['certified',\n",
    "                'LoE_DI',\n",
    "                'viewed',\n",
    "                'explored',\n",
    "                'YoB',\n",
    "                'duration',\n",
    "                'ndays_act',\n",
    "                'nplay_video',\n",
    "                'nchapters']]\n",
    "\n",
    "\n",
    "_models = [\n",
    "    _LogisticRegression()    ,\n",
    "    _DeepLearning(8),\n",
    "    _RandonForest(),\n",
    "    _SuppotVectorMachine(),\n",
    "    _NaiveBayes()\n",
    "]\n",
    "\n",
    "\n",
    "\n",
    "results3, plt, _ = train_evaluate(_models, cen3df, feature_extractor= feat_extract_selected, \n",
    "                              label='certified', split_criteria='course_id', evaluation=evaluate, \n",
    "                              plots= [], plot_enabled=False, balance=True)\n",
    "plt.show()\n",
    "\n",
    "\n"
   ]
  },
  {
   "cell_type": "code",
   "execution_count": 30,
   "metadata": {
    "scrolled": false
   },
   "outputs": [
    {
     "data": {
      "text/plain": [
       "{'_DeepLearning': {'2.01x': {'accuracy': 0.8201424995185828,\n",
       "   'f1': 0.023012552301255228,\n",
       "   'n_test': 5193,\n",
       "   'n_train': 472,\n",
       "   'precision': 0.01164021164021164,\n",
       "   'recall_score': 1.0,\n",
       "   'test_time': 6994,\n",
       "   'train_time': 910449},\n",
       "  '3.091x': {'accuracy': 0.9695735689588936,\n",
       "   'f1': 0.1391304347826087,\n",
       "   'n_test': 13015,\n",
       "   'n_train': 1200,\n",
       "   'precision': 0.07476635514018691,\n",
       "   'recall_score': 1.0,\n",
       "   'test_time': 14003,\n",
       "   'train_time': 308965},\n",
       "  '6.002x': {'accuracy': 0.9686291247632512,\n",
       "   'f1': 0.12888888888888891,\n",
       "   'n_test': 37487,\n",
       "   'n_train': 3324,\n",
       "   'precision': 0.06893819334389857,\n",
       "   'recall_score': 0.9886363636363636,\n",
       "   'test_time': 37004,\n",
       "   'train_time': 645966},\n",
       "  '6.00x': {'accuracy': 0.958976860131144,\n",
       "   'f1': 0.061957868649318466,\n",
       "   'n_test': 55359,\n",
       "   'n_train': 2356,\n",
       "   'precision': 0.0319693094629156,\n",
       "   'recall_score': 1.0,\n",
       "   'test_time': 60039,\n",
       "   'train_time': 538401},\n",
       "  'CB22x': {'accuracy': 0.9880049210580275,\n",
       "   'f1': 0.07387862796833773,\n",
       "   'n_test': 29262,\n",
       "   'n_train': 740,\n",
       "   'precision': 0.038356164383561646,\n",
       "   'recall_score': 1.0,\n",
       "   'test_time': 28032,\n",
       "   'train_time': 808031}},\n",
       " '_LogisticRegression': {'2.01x': {'accuracy': 0.9836716681376876,\n",
       "   'f1': 0.7909604519774012,\n",
       "   'n_test': 2266,\n",
       "   'n_train': 3399,\n",
       "   'precision': 0.7954545454545454,\n",
       "   'recall_score': 0.7865168539325843,\n",
       "   'test_time': 3029,\n",
       "   'train_time': 87995},\n",
       "  '3.091x': {'accuracy': 0.9915582131551178,\n",
       "   'f1': 0.9124087591240876,\n",
       "   'n_test': 5686,\n",
       "   'n_train': 8529,\n",
       "   'precision': 0.8771929824561403,\n",
       "   'recall_score': 0.9505703422053232,\n",
       "   'test_time': 3998,\n",
       "   'train_time': 235993},\n",
       "  '6.002x': {'accuracy': 0.9842563097280078,\n",
       "   'f1': 0.8226363008971703,\n",
       "   'n_test': 16324,\n",
       "   'n_train': 24487,\n",
       "   'precision': 0.7770534550195567,\n",
       "   'recall_score': 0.873900293255132,\n",
       "   'test_time': 11996,\n",
       "   'train_time': 713997},\n",
       "  '6.00x': {'accuracy': 0.9938924023217535,\n",
       "   'f1': 0.8532778355879291,\n",
       "   'n_test': 23086,\n",
       "   'n_train': 34629,\n",
       "   'precision': 0.8836206896551724,\n",
       "   'recall_score': 0.8249496981891348,\n",
       "   'test_time': 10999,\n",
       "   'train_time': 83963},\n",
       "  'CB22x': {'accuracy': 0.9965002916423631,\n",
       "   'f1': 0.8662420382165605,\n",
       "   'n_test': 12001,\n",
       "   'n_train': 18001,\n",
       "   'precision': 0.8143712574850299,\n",
       "   'recall_score': 0.9251700680272109,\n",
       "   'test_time': 8032,\n",
       "   'train_time': 515964}},\n",
       " '_NaiveBayes': {'2.01x': {'accuracy': 0.9461606354810238,\n",
       "   'f1': 0.5933333333333334,\n",
       "   'n_test': 2266,\n",
       "   'n_train': 3399,\n",
       "   'precision': 0.4218009478672986,\n",
       "   'recall_score': 1.0,\n",
       "   'test_time': 2041,\n",
       "   'train_time': 3029},\n",
       "  '3.091x': {'accuracy': 0.9822370735138938,\n",
       "   'f1': 0.8389154704944178,\n",
       "   'n_test': 5686,\n",
       "   'n_train': 8529,\n",
       "   'precision': 0.7225274725274725,\n",
       "   'recall_score': 1.0,\n",
       "   'test_time': 2995,\n",
       "   'train_time': 3998},\n",
       "  '6.002x': {'accuracy': 0.9663072776280324,\n",
       "   'f1': 0.7108307045215563,\n",
       "   'n_test': 16324,\n",
       "   'n_train': 24487,\n",
       "   'precision': 0.5540983606557377,\n",
       "   'recall_score': 0.9912023460410557,\n",
       "   'test_time': 8999,\n",
       "   'train_time': 13002},\n",
       "  '6.00x': {'accuracy': 0.9751364463311097,\n",
       "   'f1': 0.6334610472541508,\n",
       "   'n_test': 23086,\n",
       "   'n_train': 34629,\n",
       "   'precision': 0.4639850327408793,\n",
       "   'recall_score': 0.9979879275653923,\n",
       "   'test_time': 26998,\n",
       "   'train_time': 18964},\n",
       "  'CB22x': {'accuracy': 0.9936671944004666,\n",
       "   'f1': 0.7923497267759563,\n",
       "   'n_test': 12001,\n",
       "   'n_train': 18001,\n",
       "   'precision': 0.6621004566210046,\n",
       "   'recall_score': 0.9863945578231292,\n",
       "   'test_time': 6998,\n",
       "   'train_time': 10000}},\n",
       " '_RandonForest': {'2.01x': {'accuracy': 0.9845542806707855,\n",
       "   'f1': 0.7928994082840237,\n",
       "   'n_test': 2266,\n",
       "   'n_train': 3399,\n",
       "   'precision': 0.8375,\n",
       "   'recall_score': 0.7528089887640449,\n",
       "   'test_time': 2938,\n",
       "   'train_time': 108898},\n",
       "  '3.091x': {'accuracy': 0.9899753781217024,\n",
       "   'f1': 0.8934579439252337,\n",
       "   'n_test': 5686,\n",
       "   'n_train': 8529,\n",
       "   'precision': 0.8786764705882353,\n",
       "   'recall_score': 0.908745247148289,\n",
       "   'test_time': 5012,\n",
       "   'train_time': 109611},\n",
       "  '6.002x': {'accuracy': 0.9866454300416565,\n",
       "   'f1': 0.844950213371266,\n",
       "   'n_test': 16324,\n",
       "   'n_train': 24487,\n",
       "   'precision': 0.8204419889502762,\n",
       "   'recall_score': 0.8709677419354839,\n",
       "   'test_time': 8007,\n",
       "   'train_time': 116526},\n",
       "  '6.00x': {'accuracy': 0.9939790349129343,\n",
       "   'f1': 0.8594539939332659,\n",
       "   'n_test': 23086,\n",
       "   'n_train': 34629,\n",
       "   'precision': 0.8638211382113821,\n",
       "   'recall_score': 0.8551307847082495,\n",
       "   'test_time': 12998,\n",
       "   'train_time': 119965},\n",
       "  'CB22x': {'accuracy': 0.9955003749687527,\n",
       "   'f1': 0.8163265306122449,\n",
       "   'n_test': 12001,\n",
       "   'n_train': 18001,\n",
       "   'precision': 0.8163265306122449,\n",
       "   'recall_score': 0.8163265306122449,\n",
       "   'test_time': 8031,\n",
       "   'train_time': 114936}},\n",
       " '_SuppotVectorMachine': {'2.01x': {'accuracy': 0.9854368932038835,\n",
       "   'f1': 0.8114285714285714,\n",
       "   'n_test': 2266,\n",
       "   'n_train': 3399,\n",
       "   'precision': 0.8255813953488372,\n",
       "   'recall_score': 0.797752808988764,\n",
       "   'test_time': 2002,\n",
       "   'train_time': 24036},\n",
       "  '3.091x': {'accuracy': 0.9912064720365811,\n",
       "   'f1': 0.9107142857142857,\n",
       "   'n_test': 5686,\n",
       "   'n_train': 8529,\n",
       "   'precision': 0.8585858585858586,\n",
       "   'recall_score': 0.9695817490494296,\n",
       "   'test_time': 2996,\n",
       "   'train_time': 73030},\n",
       "  '6.002x': {'accuracy': 0.9869517275177653,\n",
       "   'f1': 0.8527988942639946,\n",
       "   'n_test': 16324,\n",
       "   'n_train': 24487,\n",
       "   'precision': 0.8065359477124183,\n",
       "   'recall_score': 0.9046920821114369,\n",
       "   'test_time': 9000,\n",
       "   'train_time': 753001},\n",
       "  '6.00x': {'accuracy': 0.9946287793467903,\n",
       "   'f1': 0.8781925343811394,\n",
       "   'n_test': 23086,\n",
       "   'n_train': 34629,\n",
       "   'precision': 0.8579654510556622,\n",
       "   'recall_score': 0.8993963782696177,\n",
       "   'test_time': 11025,\n",
       "   'train_time': 750993},\n",
       "  'CB22x': {'accuracy': 0.9963336388634281,\n",
       "   'f1': 0.8616352201257862,\n",
       "   'n_test': 12001,\n",
       "   'n_train': 18001,\n",
       "   'precision': 0.8011695906432749,\n",
       "   'recall_score': 0.9319727891156463,\n",
       "   'test_time': 9002,\n",
       "   'train_time': 152001}}}"
      ]
     },
     "execution_count": 30,
     "metadata": {},
     "output_type": "execute_result"
    }
   ],
   "source": [
    "results3"
   ]
  },
  {
   "cell_type": "code",
   "execution_count": null,
   "metadata": {
    "scrolled": true
   },
   "outputs": [],
   "source": [
    "  "
   ]
  }
 ],
 "metadata": {
  "kernelspec": {
   "display_name": "Python 3",
   "language": "python",
   "name": "python3"
  },
  "language_info": {
   "codemirror_mode": {
    "name": "ipython",
    "version": 3
   },
   "file_extension": ".py",
   "mimetype": "text/x-python",
   "name": "python",
   "nbconvert_exporter": "python",
   "pygments_lexer": "ipython3",
   "version": "3.6.4"
  }
 },
 "nbformat": 4,
 "nbformat_minor": 2
}
