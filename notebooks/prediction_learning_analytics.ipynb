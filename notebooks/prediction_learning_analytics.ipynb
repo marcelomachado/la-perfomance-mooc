{
 "cells": [
  {
   "cell_type": "markdown",
   "metadata": {},
   "source": [
    "# Learning Analytics para Predição de Resultados\n",
    "\n",
    "## Introdução\n",
    "\n",
    "Nesse arquivo serão analisados os Learning Analytics para predição de resultados em ambientes de e-learning.\n",
    "Serão identificados os principais métodos para predição bem como seu contexto de aplicação por meio de uma pesquisa exploratória na literatura."
   ]
  },
  {
   "cell_type": "markdown",
   "metadata": {
    "collapsed": true
   },
   "source": [
    "## Problema\n",
    "\n",
    "O problema de predição é um dos principais problemas endereçados pela literatura de LA [1], em especial a predição de resultados.\n",
    "\n",
    "Regressão [2][5][7][9]\n",
    "\n",
    "Métodos Bayesianos: [3][5][9]\n",
    "\n",
    "Árvores de Decisão: [4][5][6][8][9]\n",
    "\n",
    "Deep Learning [10]\n",
    "\n",
    "<pre>\n",
    "1 - Daniel, V., & Vera, G. (2017). A Bibliometric Analysis of the Learning Analytics Application in the Education. A Bibliometric Analysis of the Learning Analytics Application in the Education, 12(March), 7849–7858. https://doi.org/10.3923/jeasci.2017.7849.7858\n",
    "\n",
    "2 - Alstete, J.W. and Beutell, N.J. 2004. Performance indicators in online distance learning courses: a study of management education. Quality Assurance in Education. 12, 1 (Mar. 2004), 6–14 doi:10.1108/09684880410517397.\n",
    "\n",
    "3 - Dawson, S., Gašević, D., Siemens, G., & Joksimovic, S. (2014). Current state and future trends. Proceedins of the Fourth International Conference on Learning Analytics And Knowledge - LAK ’14, (March), 231–240. https://doi.org/10.1145/2567574.2567585\n",
    "\n",
    "4 - Pardo, A., Mirriahi, N., Martinez-Maldonado, R., Jovanovic, J., Dawson, S., & Gašević, D. (2016). Generating actionable predictive models of academic performance. Proceedings of the Sixth International Conference on Learning Analytics & Knowledge - LAK ’16, 474–478. https://doi.org/10.1145/2883851.2883870\n",
    "\n",
    "5 - Jayaprakash, S.M., Moody, E.W., Lauría, E.J.M., Regan, J.R. and Baron, J.D. 2014. Early Alert of Academically AtRisk Students: An Open Source Analytics Initiative Journal of Learning Analytics. 1, 1 (May 2014), 6–47\n",
    "\n",
    "6 - Agapito, J. B., & Ortigosa, A. (2009). Detecting Symptoms of Low Performance Using Production Rules. Proceedings of the 2nd International Conference on Educational Data Mining, 31–40. Retrieved from http://www.educationaldatamining.org/EDM2009/uploads/proceedings/bravo.pdf\n",
    "\n",
    "7 - Palmer, S. (n.d.). Modelling Engineering Student Academic Performance Using Academic Analytics*. International Journal of Engineering Education, 29(1), 132–138. Retrieved from http://hdl.handle.net/10536/DRO/DU:30051021\n",
    "\n",
    "8 - Daniel, V., & Vera, G. (2017). A Bibliometric Analysis of the Learning Analytics Application in the Education. A Bibliometric Analysis of the Learning Analytics Application in the Education, 12(March), 7849–7858. https://doi.org/10.3923/jeasci.2017.7849.7858\n",
    "\n",
    "9 - Romero, C., López, M. -I., Luna, J. -M., & Ventura, S. (2013). Predicting students' final performance from participation in on-line discussion forums. Computers & Education, 68,458–472. http://dx.doi.org/10.1016/j.compedu.2013.06.009.\n",
    "\n",
    "10 - Fei, M. & Yeung, 2015.\n",
    "\n",
    "</pre>"
   ]
  },
  {
   "cell_type": "markdown",
   "metadata": {},
   "source": [
    "## Predição de Grade\n",
    "\n",
    "### Formulação \n",
    "- Definir o problema de predição de resultados.\n",
    "\n",
    "### Learning Analytics\n",
    "\n",
    "####  (I) Linear Regression\n",
    "- Loren Ipsun.\n",
    "\n",
    "#### (II) Árvores de Decisão\n",
    "- Loren Ipsun.\n",
    "\n",
    "#### (III) Deep learning\n",
    "- Loren Ipsun.\n"
   ]
  },
  {
   "cell_type": "markdown",
   "metadata": {},
   "source": [
    "## Predição de Sucesso\n",
    "\n",
    "### Formulação \n",
    "- Definir o problema de predição de resultados.\n",
    "\n",
    "### Learning Analytics\n",
    "\n",
    "#### (I) Logistic Regression\n",
    "- Loren Ipsun.\n",
    "\n",
    "#### (II) Métodos Bayesianos\n",
    "- Loren Ipsun.\n",
    "\n",
    "#### (III) Árvores de Decisão\n",
    "- Loren Ipsun.\n",
    "\n",
    "#### (IV) Deep learning\n",
    "- Loren Ipsun.\n"
   ]
  },
  {
   "cell_type": "markdown",
   "metadata": {},
   "source": [
    "* Análise das Variáveis e como elas podem impactar no uso de LA\n",
    "* Discutir os resultados da aplicação das abordagens de LA.\n",
    "* Proposta de Implementação da Seleção de Automática de LA por Contexto."
   ]
  },
  {
   "cell_type": "code",
   "execution_count": null,
   "metadata": {},
   "outputs": [],
   "source": []
  }
 ],
 "metadata": {
  "kernelspec": {
   "display_name": "Python 3",
   "language": "python",
   "name": "python3"
  },
  "language_info": {
   "codemirror_mode": {
    "name": "ipython",
    "version": 3
   },
   "file_extension": ".py",
   "mimetype": "text/x-python",
   "name": "python",
   "nbconvert_exporter": "python",
   "pygments_lexer": "ipython3",
   "version": "3.7.3"
  }
 },
 "nbformat": 4,
 "nbformat_minor": 2
}
